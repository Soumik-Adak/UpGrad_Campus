{
 "cells": [
  {
   "cell_type": "markdown",
   "id": "f53ef96d",
   "metadata": {},
   "source": [
    "# GRAMENER CASE STUDY \n",
    "## By Soumik Adak"
   ]
  },
  {
   "cell_type": "markdown",
   "id": "efd8a6dd",
   "metadata": {},
   "source": [
    "# Problem Statement\n",
    "\n",
    "You work for a consumer finance company that specialises in providing various types of loans to urban customers. When the company receives a loan application, it has to decide whether to approve or reject it based on the applicant’s profile. Two types of risks are associated with the bank’s decision:\n",
    "\n",
    "If the applicant is likely to repay the loan, then not approving the loan results in a loss of business to the company.\n",
    "\n",
    "If the applicant is not likely to repay the loan, i.e., they are likely to default, then approving the loan may lead to financial loss for the company.\n",
    "\n",
    " \n",
    "\n",
    "The data given below contains information about past loan applicants and whether they ‘defaulted’. The aim is to identify patterns indicating that a person is likely to default, which may be used to deny the loan, reduce the loan amount, lend (to risky applicants) at a higher interest rate, etc.\n",
    "\n",
    " \n",
    "\n",
    "In this case study, you will use EDA to understand how consumer attributes and loan attributes influence the tendency of defaulting.\n",
    "\n",
    "The following image depicts the decisions that could be undertaken by the firm."
   ]
  },
  {
   "cell_type": "markdown",
   "id": "b198f303",
   "metadata": {},
   "source": [
    "# Business Objectives\n",
    "\n",
    "This company is the largest online loan marketplace facilitating personal loans, business loans, and the financing of medical procedures. Borrowers can easily access lower interest rate loans through a fast online interface.\n",
    "\n",
    " \n",
    "\n",
    "Like most other lending companies, lending to ‘risky’ applicants is the largest source of financial loss (called credit loss). Credit loss is the amount of money lost by the lender when the borrower refuses to pay or absconds with the money owed. In other words, borrowers who default cause the biggest losses to lenders. In this case, customers labelled as ‘charged-off’ are the ‘defaulters’.\n",
    "\n",
    " \n",
    "\n",
    "If one is able to identify these risky loan applicants, then such loans can be reduced, thereby cutting down the amount of credit loss. Identification of such applicants using EDA is the aim of this case study.\n",
    "\n",
    " \n",
    "\n",
    "In other words, the company wants to understand the driving factors (or driver variables) behind loan default, i.e., the variables which are strong indicators of default. The company can utilise this knowledge for its portfolio and risk assessment. \n",
    "\n",
    "\n",
    "To develop your understanding of the domain, you are advised to independently research a little about risk analytics (understanding the types of variables and their significance should be enough)."
   ]
  },
  {
   "cell_type": "markdown",
   "id": "f447624a",
   "metadata": {},
   "source": [
    "## Importing Libraries"
   ]
  },
  {
   "cell_type": "code",
   "execution_count": 1024,
   "id": "20e701fe",
   "metadata": {},
   "outputs": [],
   "source": [
    "# Import the required libraries\n",
    "\n",
    "import numpy as np\n",
    "import pandas as pd\n",
    "import matplotlib.pyplot as plt\n",
    "import seaborn as sns"
   ]
  },
  {
   "cell_type": "code",
   "execution_count": 1025,
   "id": "94eb7b8a",
   "metadata": {},
   "outputs": [],
   "source": [
    "# Filter out the warnings\n",
    "\n",
    "import warnings\n",
    "\n",
    "warnings.filterwarnings('ignore')"
   ]
  },
  {
   "cell_type": "markdown",
   "id": "2b2cb79d",
   "metadata": {},
   "source": [
    "## Importing and reading the data"
   ]
  },
  {
   "cell_type": "code",
   "execution_count": 1026,
   "id": "59560912",
   "metadata": {},
   "outputs": [],
   "source": [
    "# lets import the dataset which is given \n",
    "\n",
    "loan_data = pd.read_csv(\"loan.csv\")"
   ]
  },
  {
   "cell_type": "code",
   "execution_count": 1027,
   "id": "36fe5617",
   "metadata": {
    "scrolled": true
   },
   "outputs": [
    {
     "data": {
      "text/html": [
       "<div>\n",
       "<style scoped>\n",
       "    .dataframe tbody tr th:only-of-type {\n",
       "        vertical-align: middle;\n",
       "    }\n",
       "\n",
       "    .dataframe tbody tr th {\n",
       "        vertical-align: top;\n",
       "    }\n",
       "\n",
       "    .dataframe thead th {\n",
       "        text-align: right;\n",
       "    }\n",
       "</style>\n",
       "<table border=\"1\" class=\"dataframe\">\n",
       "  <thead>\n",
       "    <tr style=\"text-align: right;\">\n",
       "      <th></th>\n",
       "      <th>id</th>\n",
       "      <th>member_id</th>\n",
       "      <th>loan_amnt</th>\n",
       "      <th>funded_amnt</th>\n",
       "      <th>funded_amnt_inv</th>\n",
       "      <th>term</th>\n",
       "      <th>int_rate</th>\n",
       "      <th>installment</th>\n",
       "      <th>grade</th>\n",
       "      <th>sub_grade</th>\n",
       "      <th>...</th>\n",
       "      <th>num_tl_90g_dpd_24m</th>\n",
       "      <th>num_tl_op_past_12m</th>\n",
       "      <th>pct_tl_nvr_dlq</th>\n",
       "      <th>percent_bc_gt_75</th>\n",
       "      <th>pub_rec_bankruptcies</th>\n",
       "      <th>tax_liens</th>\n",
       "      <th>tot_hi_cred_lim</th>\n",
       "      <th>total_bal_ex_mort</th>\n",
       "      <th>total_bc_limit</th>\n",
       "      <th>total_il_high_credit_limit</th>\n",
       "    </tr>\n",
       "  </thead>\n",
       "  <tbody>\n",
       "    <tr>\n",
       "      <th>0</th>\n",
       "      <td>1077501</td>\n",
       "      <td>1296599</td>\n",
       "      <td>5000</td>\n",
       "      <td>5000</td>\n",
       "      <td>4975.0</td>\n",
       "      <td>36 months</td>\n",
       "      <td>10.65%</td>\n",
       "      <td>162.87</td>\n",
       "      <td>B</td>\n",
       "      <td>B2</td>\n",
       "      <td>...</td>\n",
       "      <td>NaN</td>\n",
       "      <td>NaN</td>\n",
       "      <td>NaN</td>\n",
       "      <td>NaN</td>\n",
       "      <td>0.0</td>\n",
       "      <td>0.0</td>\n",
       "      <td>NaN</td>\n",
       "      <td>NaN</td>\n",
       "      <td>NaN</td>\n",
       "      <td>NaN</td>\n",
       "    </tr>\n",
       "    <tr>\n",
       "      <th>1</th>\n",
       "      <td>1077430</td>\n",
       "      <td>1314167</td>\n",
       "      <td>2500</td>\n",
       "      <td>2500</td>\n",
       "      <td>2500.0</td>\n",
       "      <td>60 months</td>\n",
       "      <td>15.27%</td>\n",
       "      <td>59.83</td>\n",
       "      <td>C</td>\n",
       "      <td>C4</td>\n",
       "      <td>...</td>\n",
       "      <td>NaN</td>\n",
       "      <td>NaN</td>\n",
       "      <td>NaN</td>\n",
       "      <td>NaN</td>\n",
       "      <td>0.0</td>\n",
       "      <td>0.0</td>\n",
       "      <td>NaN</td>\n",
       "      <td>NaN</td>\n",
       "      <td>NaN</td>\n",
       "      <td>NaN</td>\n",
       "    </tr>\n",
       "    <tr>\n",
       "      <th>2</th>\n",
       "      <td>1077175</td>\n",
       "      <td>1313524</td>\n",
       "      <td>2400</td>\n",
       "      <td>2400</td>\n",
       "      <td>2400.0</td>\n",
       "      <td>36 months</td>\n",
       "      <td>15.96%</td>\n",
       "      <td>84.33</td>\n",
       "      <td>C</td>\n",
       "      <td>C5</td>\n",
       "      <td>...</td>\n",
       "      <td>NaN</td>\n",
       "      <td>NaN</td>\n",
       "      <td>NaN</td>\n",
       "      <td>NaN</td>\n",
       "      <td>0.0</td>\n",
       "      <td>0.0</td>\n",
       "      <td>NaN</td>\n",
       "      <td>NaN</td>\n",
       "      <td>NaN</td>\n",
       "      <td>NaN</td>\n",
       "    </tr>\n",
       "    <tr>\n",
       "      <th>3</th>\n",
       "      <td>1076863</td>\n",
       "      <td>1277178</td>\n",
       "      <td>10000</td>\n",
       "      <td>10000</td>\n",
       "      <td>10000.0</td>\n",
       "      <td>36 months</td>\n",
       "      <td>13.49%</td>\n",
       "      <td>339.31</td>\n",
       "      <td>C</td>\n",
       "      <td>C1</td>\n",
       "      <td>...</td>\n",
       "      <td>NaN</td>\n",
       "      <td>NaN</td>\n",
       "      <td>NaN</td>\n",
       "      <td>NaN</td>\n",
       "      <td>0.0</td>\n",
       "      <td>0.0</td>\n",
       "      <td>NaN</td>\n",
       "      <td>NaN</td>\n",
       "      <td>NaN</td>\n",
       "      <td>NaN</td>\n",
       "    </tr>\n",
       "    <tr>\n",
       "      <th>4</th>\n",
       "      <td>1075358</td>\n",
       "      <td>1311748</td>\n",
       "      <td>3000</td>\n",
       "      <td>3000</td>\n",
       "      <td>3000.0</td>\n",
       "      <td>60 months</td>\n",
       "      <td>12.69%</td>\n",
       "      <td>67.79</td>\n",
       "      <td>B</td>\n",
       "      <td>B5</td>\n",
       "      <td>...</td>\n",
       "      <td>NaN</td>\n",
       "      <td>NaN</td>\n",
       "      <td>NaN</td>\n",
       "      <td>NaN</td>\n",
       "      <td>0.0</td>\n",
       "      <td>0.0</td>\n",
       "      <td>NaN</td>\n",
       "      <td>NaN</td>\n",
       "      <td>NaN</td>\n",
       "      <td>NaN</td>\n",
       "    </tr>\n",
       "  </tbody>\n",
       "</table>\n",
       "<p>5 rows × 111 columns</p>\n",
       "</div>"
      ],
      "text/plain": [
       "        id  member_id  loan_amnt  funded_amnt  funded_amnt_inv        term  \\\n",
       "0  1077501    1296599       5000         5000           4975.0   36 months   \n",
       "1  1077430    1314167       2500         2500           2500.0   60 months   \n",
       "2  1077175    1313524       2400         2400           2400.0   36 months   \n",
       "3  1076863    1277178      10000        10000          10000.0   36 months   \n",
       "4  1075358    1311748       3000         3000           3000.0   60 months   \n",
       "\n",
       "  int_rate  installment grade sub_grade  ... num_tl_90g_dpd_24m  \\\n",
       "0   10.65%       162.87     B        B2  ...                NaN   \n",
       "1   15.27%        59.83     C        C4  ...                NaN   \n",
       "2   15.96%        84.33     C        C5  ...                NaN   \n",
       "3   13.49%       339.31     C        C1  ...                NaN   \n",
       "4   12.69%        67.79     B        B5  ...                NaN   \n",
       "\n",
       "  num_tl_op_past_12m pct_tl_nvr_dlq  percent_bc_gt_75 pub_rec_bankruptcies  \\\n",
       "0                NaN            NaN               NaN                  0.0   \n",
       "1                NaN            NaN               NaN                  0.0   \n",
       "2                NaN            NaN               NaN                  0.0   \n",
       "3                NaN            NaN               NaN                  0.0   \n",
       "4                NaN            NaN               NaN                  0.0   \n",
       "\n",
       "  tax_liens tot_hi_cred_lim total_bal_ex_mort total_bc_limit  \\\n",
       "0       0.0             NaN               NaN            NaN   \n",
       "1       0.0             NaN               NaN            NaN   \n",
       "2       0.0             NaN               NaN            NaN   \n",
       "3       0.0             NaN               NaN            NaN   \n",
       "4       0.0             NaN               NaN            NaN   \n",
       "\n",
       "  total_il_high_credit_limit  \n",
       "0                        NaN  \n",
       "1                        NaN  \n",
       "2                        NaN  \n",
       "3                        NaN  \n",
       "4                        NaN  \n",
       "\n",
       "[5 rows x 111 columns]"
      ]
     },
     "execution_count": 1027,
     "metadata": {},
     "output_type": "execute_result"
    }
   ],
   "source": [
    "# Print the head of the data frame\n",
    "loan_data.head()"
   ]
  },
  {
   "cell_type": "code",
   "execution_count": 1028,
   "id": "f72582b0",
   "metadata": {},
   "outputs": [],
   "source": [
    "# Lets store the data into a backup variable\n",
    "backup_data = loan_data"
   ]
  },
  {
   "cell_type": "markdown",
   "id": "c9df5a6c",
   "metadata": {},
   "source": [
    "## Understanding the data"
   ]
  },
  {
   "cell_type": "code",
   "execution_count": 1029,
   "id": "75c341c1",
   "metadata": {},
   "outputs": [
    {
     "name": "stdout",
     "output_type": "stream",
     "text": [
      "<class 'pandas.core.frame.DataFrame'>\n",
      "RangeIndex: 39717 entries, 0 to 39716\n",
      "Columns: 111 entries, id to total_il_high_credit_limit\n",
      "dtypes: float64(74), int64(13), object(24)\n",
      "memory usage: 33.6+ MB\n"
     ]
    }
   ],
   "source": [
    "# Lets see the information of variables to check their data types.\n",
    "loan_data.info()"
   ]
  },
  {
   "cell_type": "code",
   "execution_count": 1030,
   "id": "aa03bfbb",
   "metadata": {},
   "outputs": [
    {
     "data": {
      "text/plain": [
       "(39717, 111)"
      ]
     },
     "execution_count": 1030,
     "metadata": {},
     "output_type": "execute_result"
    }
   ],
   "source": [
    "# Lets see the no of rows and columns in the dataframe\n",
    "loan_data.shape"
   ]
  },
  {
   "cell_type": "code",
   "execution_count": 1031,
   "id": "87baf776",
   "metadata": {},
   "outputs": [
    {
     "data": {
      "text/html": [
       "<div>\n",
       "<style scoped>\n",
       "    .dataframe tbody tr th:only-of-type {\n",
       "        vertical-align: middle;\n",
       "    }\n",
       "\n",
       "    .dataframe tbody tr th {\n",
       "        vertical-align: top;\n",
       "    }\n",
       "\n",
       "    .dataframe thead th {\n",
       "        text-align: right;\n",
       "    }\n",
       "</style>\n",
       "<table border=\"1\" class=\"dataframe\">\n",
       "  <thead>\n",
       "    <tr style=\"text-align: right;\">\n",
       "      <th></th>\n",
       "      <th>id</th>\n",
       "      <th>member_id</th>\n",
       "      <th>loan_amnt</th>\n",
       "      <th>funded_amnt</th>\n",
       "      <th>funded_amnt_inv</th>\n",
       "      <th>installment</th>\n",
       "      <th>annual_inc</th>\n",
       "      <th>dti</th>\n",
       "      <th>delinq_2yrs</th>\n",
       "      <th>inq_last_6mths</th>\n",
       "      <th>...</th>\n",
       "      <th>num_tl_90g_dpd_24m</th>\n",
       "      <th>num_tl_op_past_12m</th>\n",
       "      <th>pct_tl_nvr_dlq</th>\n",
       "      <th>percent_bc_gt_75</th>\n",
       "      <th>pub_rec_bankruptcies</th>\n",
       "      <th>tax_liens</th>\n",
       "      <th>tot_hi_cred_lim</th>\n",
       "      <th>total_bal_ex_mort</th>\n",
       "      <th>total_bc_limit</th>\n",
       "      <th>total_il_high_credit_limit</th>\n",
       "    </tr>\n",
       "  </thead>\n",
       "  <tbody>\n",
       "    <tr>\n",
       "      <th>count</th>\n",
       "      <td>3.971700e+04</td>\n",
       "      <td>3.971700e+04</td>\n",
       "      <td>39717.000000</td>\n",
       "      <td>39717.000000</td>\n",
       "      <td>39717.000000</td>\n",
       "      <td>39717.000000</td>\n",
       "      <td>3.971700e+04</td>\n",
       "      <td>39717.000000</td>\n",
       "      <td>39717.000000</td>\n",
       "      <td>39717.000000</td>\n",
       "      <td>...</td>\n",
       "      <td>0.0</td>\n",
       "      <td>0.0</td>\n",
       "      <td>0.0</td>\n",
       "      <td>0.0</td>\n",
       "      <td>39020.000000</td>\n",
       "      <td>39678.0</td>\n",
       "      <td>0.0</td>\n",
       "      <td>0.0</td>\n",
       "      <td>0.0</td>\n",
       "      <td>0.0</td>\n",
       "    </tr>\n",
       "    <tr>\n",
       "      <th>mean</th>\n",
       "      <td>6.831319e+05</td>\n",
       "      <td>8.504636e+05</td>\n",
       "      <td>11219.443815</td>\n",
       "      <td>10947.713196</td>\n",
       "      <td>10397.448868</td>\n",
       "      <td>324.561922</td>\n",
       "      <td>6.896893e+04</td>\n",
       "      <td>13.315130</td>\n",
       "      <td>0.146512</td>\n",
       "      <td>0.869200</td>\n",
       "      <td>...</td>\n",
       "      <td>NaN</td>\n",
       "      <td>NaN</td>\n",
       "      <td>NaN</td>\n",
       "      <td>NaN</td>\n",
       "      <td>0.043260</td>\n",
       "      <td>0.0</td>\n",
       "      <td>NaN</td>\n",
       "      <td>NaN</td>\n",
       "      <td>NaN</td>\n",
       "      <td>NaN</td>\n",
       "    </tr>\n",
       "    <tr>\n",
       "      <th>std</th>\n",
       "      <td>2.106941e+05</td>\n",
       "      <td>2.656783e+05</td>\n",
       "      <td>7456.670694</td>\n",
       "      <td>7187.238670</td>\n",
       "      <td>7128.450439</td>\n",
       "      <td>208.874874</td>\n",
       "      <td>6.379377e+04</td>\n",
       "      <td>6.678594</td>\n",
       "      <td>0.491812</td>\n",
       "      <td>1.070219</td>\n",
       "      <td>...</td>\n",
       "      <td>NaN</td>\n",
       "      <td>NaN</td>\n",
       "      <td>NaN</td>\n",
       "      <td>NaN</td>\n",
       "      <td>0.204324</td>\n",
       "      <td>0.0</td>\n",
       "      <td>NaN</td>\n",
       "      <td>NaN</td>\n",
       "      <td>NaN</td>\n",
       "      <td>NaN</td>\n",
       "    </tr>\n",
       "    <tr>\n",
       "      <th>min</th>\n",
       "      <td>5.473400e+04</td>\n",
       "      <td>7.069900e+04</td>\n",
       "      <td>500.000000</td>\n",
       "      <td>500.000000</td>\n",
       "      <td>0.000000</td>\n",
       "      <td>15.690000</td>\n",
       "      <td>4.000000e+03</td>\n",
       "      <td>0.000000</td>\n",
       "      <td>0.000000</td>\n",
       "      <td>0.000000</td>\n",
       "      <td>...</td>\n",
       "      <td>NaN</td>\n",
       "      <td>NaN</td>\n",
       "      <td>NaN</td>\n",
       "      <td>NaN</td>\n",
       "      <td>0.000000</td>\n",
       "      <td>0.0</td>\n",
       "      <td>NaN</td>\n",
       "      <td>NaN</td>\n",
       "      <td>NaN</td>\n",
       "      <td>NaN</td>\n",
       "    </tr>\n",
       "    <tr>\n",
       "      <th>25%</th>\n",
       "      <td>5.162210e+05</td>\n",
       "      <td>6.667800e+05</td>\n",
       "      <td>5500.000000</td>\n",
       "      <td>5400.000000</td>\n",
       "      <td>5000.000000</td>\n",
       "      <td>167.020000</td>\n",
       "      <td>4.040400e+04</td>\n",
       "      <td>8.170000</td>\n",
       "      <td>0.000000</td>\n",
       "      <td>0.000000</td>\n",
       "      <td>...</td>\n",
       "      <td>NaN</td>\n",
       "      <td>NaN</td>\n",
       "      <td>NaN</td>\n",
       "      <td>NaN</td>\n",
       "      <td>0.000000</td>\n",
       "      <td>0.0</td>\n",
       "      <td>NaN</td>\n",
       "      <td>NaN</td>\n",
       "      <td>NaN</td>\n",
       "      <td>NaN</td>\n",
       "    </tr>\n",
       "    <tr>\n",
       "      <th>50%</th>\n",
       "      <td>6.656650e+05</td>\n",
       "      <td>8.508120e+05</td>\n",
       "      <td>10000.000000</td>\n",
       "      <td>9600.000000</td>\n",
       "      <td>8975.000000</td>\n",
       "      <td>280.220000</td>\n",
       "      <td>5.900000e+04</td>\n",
       "      <td>13.400000</td>\n",
       "      <td>0.000000</td>\n",
       "      <td>1.000000</td>\n",
       "      <td>...</td>\n",
       "      <td>NaN</td>\n",
       "      <td>NaN</td>\n",
       "      <td>NaN</td>\n",
       "      <td>NaN</td>\n",
       "      <td>0.000000</td>\n",
       "      <td>0.0</td>\n",
       "      <td>NaN</td>\n",
       "      <td>NaN</td>\n",
       "      <td>NaN</td>\n",
       "      <td>NaN</td>\n",
       "    </tr>\n",
       "    <tr>\n",
       "      <th>75%</th>\n",
       "      <td>8.377550e+05</td>\n",
       "      <td>1.047339e+06</td>\n",
       "      <td>15000.000000</td>\n",
       "      <td>15000.000000</td>\n",
       "      <td>14400.000000</td>\n",
       "      <td>430.780000</td>\n",
       "      <td>8.230000e+04</td>\n",
       "      <td>18.600000</td>\n",
       "      <td>0.000000</td>\n",
       "      <td>1.000000</td>\n",
       "      <td>...</td>\n",
       "      <td>NaN</td>\n",
       "      <td>NaN</td>\n",
       "      <td>NaN</td>\n",
       "      <td>NaN</td>\n",
       "      <td>0.000000</td>\n",
       "      <td>0.0</td>\n",
       "      <td>NaN</td>\n",
       "      <td>NaN</td>\n",
       "      <td>NaN</td>\n",
       "      <td>NaN</td>\n",
       "    </tr>\n",
       "    <tr>\n",
       "      <th>max</th>\n",
       "      <td>1.077501e+06</td>\n",
       "      <td>1.314167e+06</td>\n",
       "      <td>35000.000000</td>\n",
       "      <td>35000.000000</td>\n",
       "      <td>35000.000000</td>\n",
       "      <td>1305.190000</td>\n",
       "      <td>6.000000e+06</td>\n",
       "      <td>29.990000</td>\n",
       "      <td>11.000000</td>\n",
       "      <td>8.000000</td>\n",
       "      <td>...</td>\n",
       "      <td>NaN</td>\n",
       "      <td>NaN</td>\n",
       "      <td>NaN</td>\n",
       "      <td>NaN</td>\n",
       "      <td>2.000000</td>\n",
       "      <td>0.0</td>\n",
       "      <td>NaN</td>\n",
       "      <td>NaN</td>\n",
       "      <td>NaN</td>\n",
       "      <td>NaN</td>\n",
       "    </tr>\n",
       "  </tbody>\n",
       "</table>\n",
       "<p>8 rows × 87 columns</p>\n",
       "</div>"
      ],
      "text/plain": [
       "                 id     member_id     loan_amnt   funded_amnt  \\\n",
       "count  3.971700e+04  3.971700e+04  39717.000000  39717.000000   \n",
       "mean   6.831319e+05  8.504636e+05  11219.443815  10947.713196   \n",
       "std    2.106941e+05  2.656783e+05   7456.670694   7187.238670   \n",
       "min    5.473400e+04  7.069900e+04    500.000000    500.000000   \n",
       "25%    5.162210e+05  6.667800e+05   5500.000000   5400.000000   \n",
       "50%    6.656650e+05  8.508120e+05  10000.000000   9600.000000   \n",
       "75%    8.377550e+05  1.047339e+06  15000.000000  15000.000000   \n",
       "max    1.077501e+06  1.314167e+06  35000.000000  35000.000000   \n",
       "\n",
       "       funded_amnt_inv   installment    annual_inc           dti  \\\n",
       "count     39717.000000  39717.000000  3.971700e+04  39717.000000   \n",
       "mean      10397.448868    324.561922  6.896893e+04     13.315130   \n",
       "std        7128.450439    208.874874  6.379377e+04      6.678594   \n",
       "min           0.000000     15.690000  4.000000e+03      0.000000   \n",
       "25%        5000.000000    167.020000  4.040400e+04      8.170000   \n",
       "50%        8975.000000    280.220000  5.900000e+04     13.400000   \n",
       "75%       14400.000000    430.780000  8.230000e+04     18.600000   \n",
       "max       35000.000000   1305.190000  6.000000e+06     29.990000   \n",
       "\n",
       "        delinq_2yrs  inq_last_6mths  ...  num_tl_90g_dpd_24m  \\\n",
       "count  39717.000000    39717.000000  ...                 0.0   \n",
       "mean       0.146512        0.869200  ...                 NaN   \n",
       "std        0.491812        1.070219  ...                 NaN   \n",
       "min        0.000000        0.000000  ...                 NaN   \n",
       "25%        0.000000        0.000000  ...                 NaN   \n",
       "50%        0.000000        1.000000  ...                 NaN   \n",
       "75%        0.000000        1.000000  ...                 NaN   \n",
       "max       11.000000        8.000000  ...                 NaN   \n",
       "\n",
       "       num_tl_op_past_12m  pct_tl_nvr_dlq  percent_bc_gt_75  \\\n",
       "count                 0.0             0.0               0.0   \n",
       "mean                  NaN             NaN               NaN   \n",
       "std                   NaN             NaN               NaN   \n",
       "min                   NaN             NaN               NaN   \n",
       "25%                   NaN             NaN               NaN   \n",
       "50%                   NaN             NaN               NaN   \n",
       "75%                   NaN             NaN               NaN   \n",
       "max                   NaN             NaN               NaN   \n",
       "\n",
       "       pub_rec_bankruptcies  tax_liens  tot_hi_cred_lim  total_bal_ex_mort  \\\n",
       "count          39020.000000    39678.0              0.0                0.0   \n",
       "mean               0.043260        0.0              NaN                NaN   \n",
       "std                0.204324        0.0              NaN                NaN   \n",
       "min                0.000000        0.0              NaN                NaN   \n",
       "25%                0.000000        0.0              NaN                NaN   \n",
       "50%                0.000000        0.0              NaN                NaN   \n",
       "75%                0.000000        0.0              NaN                NaN   \n",
       "max                2.000000        0.0              NaN                NaN   \n",
       "\n",
       "       total_bc_limit  total_il_high_credit_limit  \n",
       "count             0.0                         0.0  \n",
       "mean              NaN                         NaN  \n",
       "std               NaN                         NaN  \n",
       "min               NaN                         NaN  \n",
       "25%               NaN                         NaN  \n",
       "50%               NaN                         NaN  \n",
       "75%               NaN                         NaN  \n",
       "max               NaN                         NaN  \n",
       "\n",
       "[8 rows x 87 columns]"
      ]
     },
     "execution_count": 1031,
     "metadata": {},
     "output_type": "execute_result"
    }
   ],
   "source": [
    "loan_data.describe()"
   ]
  },
  {
   "cell_type": "code",
   "execution_count": 1032,
   "id": "569678da",
   "metadata": {},
   "outputs": [
    {
     "data": {
      "text/plain": [
       "Index(['id', 'member_id', 'loan_amnt', 'funded_amnt', 'funded_amnt_inv',\n",
       "       'term', 'int_rate', 'installment', 'grade', 'sub_grade',\n",
       "       ...\n",
       "       'num_tl_90g_dpd_24m', 'num_tl_op_past_12m', 'pct_tl_nvr_dlq',\n",
       "       'percent_bc_gt_75', 'pub_rec_bankruptcies', 'tax_liens',\n",
       "       'tot_hi_cred_lim', 'total_bal_ex_mort', 'total_bc_limit',\n",
       "       'total_il_high_credit_limit'],\n",
       "      dtype='object', length=111)"
      ]
     },
     "execution_count": 1032,
     "metadata": {},
     "output_type": "execute_result"
    }
   ],
   "source": [
    "# Lets look all the column names\n",
    "loan_data.columns"
   ]
  },
  {
   "cell_type": "markdown",
   "id": "0291042d",
   "metadata": {},
   "source": [
    "## Data Cleaning"
   ]
  },
  {
   "cell_type": "markdown",
   "id": "aef2e3ef",
   "metadata": {},
   "source": [
    "Some columns have a large number of missing values, let's first fix the missing values and then check for other types of data quality problems."
   ]
  },
  {
   "cell_type": "code",
   "execution_count": 1033,
   "id": "f7b83142",
   "metadata": {},
   "outputs": [
    {
     "data": {
      "text/plain": [
       "id                                0\n",
       "member_id                         0\n",
       "loan_amnt                         0\n",
       "funded_amnt                       0\n",
       "funded_amnt_inv                   0\n",
       "                              ...  \n",
       "tax_liens                        39\n",
       "tot_hi_cred_lim               39717\n",
       "total_bal_ex_mort             39717\n",
       "total_bc_limit                39717\n",
       "total_il_high_credit_limit    39717\n",
       "Length: 111, dtype: int64"
      ]
     },
     "execution_count": 1033,
     "metadata": {},
     "output_type": "execute_result"
    }
   ],
   "source": [
    "# Summarising the number of missing values in each column\n",
    "loan_data.isnull().sum()"
   ]
  },
  {
   "cell_type": "code",
   "execution_count": 1034,
   "id": "fd777992",
   "metadata": {},
   "outputs": [
    {
     "data": {
      "text/plain": [
       "id                              0.000000\n",
       "member_id                       0.000000\n",
       "loan_amnt                       0.000000\n",
       "funded_amnt                     0.000000\n",
       "funded_amnt_inv                 0.000000\n",
       "                                 ...    \n",
       "tax_liens                       0.098195\n",
       "tot_hi_cred_lim               100.000000\n",
       "total_bal_ex_mort             100.000000\n",
       "total_bc_limit                100.000000\n",
       "total_il_high_credit_limit    100.000000\n",
       "Length: 111, dtype: float64"
      ]
     },
     "execution_count": 1034,
     "metadata": {},
     "output_type": "execute_result"
    }
   ],
   "source": [
    "# Percentage of missing values in each column\n",
    "(loan_data.isnull().sum()/len(loan_data.index))*100"
   ]
  },
  {
   "cell_type": "markdown",
   "id": "350e30e6",
   "metadata": {},
   "source": [
    "We can see there are many columns have 100% missing values so first drop that columns."
   ]
  },
  {
   "cell_type": "code",
   "execution_count": 1035,
   "id": "38f4e6d0",
   "metadata": {},
   "outputs": [
    {
     "data": {
      "text/plain": [
       "Index(['mths_since_last_record', 'next_pymnt_d', 'mths_since_last_major_derog',\n",
       "       'annual_inc_joint', 'dti_joint', 'verification_status_joint',\n",
       "       'tot_coll_amt', 'tot_cur_bal', 'open_acc_6m', 'open_il_6m',\n",
       "       'open_il_12m', 'open_il_24m', 'mths_since_rcnt_il', 'total_bal_il',\n",
       "       'il_util', 'open_rv_12m', 'open_rv_24m', 'max_bal_bc', 'all_util',\n",
       "       'total_rev_hi_lim', 'inq_fi', 'total_cu_tl', 'inq_last_12m',\n",
       "       'acc_open_past_24mths', 'avg_cur_bal', 'bc_open_to_buy', 'bc_util',\n",
       "       'mo_sin_old_il_acct', 'mo_sin_old_rev_tl_op', 'mo_sin_rcnt_rev_tl_op',\n",
       "       'mo_sin_rcnt_tl', 'mort_acc', 'mths_since_recent_bc',\n",
       "       'mths_since_recent_bc_dlq', 'mths_since_recent_inq',\n",
       "       'mths_since_recent_revol_delinq', 'num_accts_ever_120_pd',\n",
       "       'num_actv_bc_tl', 'num_actv_rev_tl', 'num_bc_sats', 'num_bc_tl',\n",
       "       'num_il_tl', 'num_op_rev_tl', 'num_rev_accts', 'num_rev_tl_bal_gt_0',\n",
       "       'num_sats', 'num_tl_120dpd_2m', 'num_tl_30dpd', 'num_tl_90g_dpd_24m',\n",
       "       'num_tl_op_past_12m', 'pct_tl_nvr_dlq', 'percent_bc_gt_75',\n",
       "       'tot_hi_cred_lim', 'total_bal_ex_mort', 'total_bc_limit',\n",
       "       'total_il_high_credit_limit'],\n",
       "      dtype='object')"
      ]
     },
     "execution_count": 1035,
     "metadata": {},
     "output_type": "execute_result"
    }
   ],
   "source": [
    "# Remove the columns having more than 90% missing values\n",
    "missibg_value = loan_data.columns[100*(loan_data.isnull().sum()/len(loan_data.index)) > 90]\n",
    "missibg_value"
   ]
  },
  {
   "cell_type": "code",
   "execution_count": 1036,
   "id": "cbaef648",
   "metadata": {},
   "outputs": [],
   "source": [
    "# Drop the missing columns\n",
    "loan = loan_data.drop(missibg_value, axis=1)"
   ]
  },
  {
   "cell_type": "code",
   "execution_count": 1037,
   "id": "f14d9f79",
   "metadata": {},
   "outputs": [
    {
     "data": {
      "text/plain": [
       "(39717, 55)"
      ]
     },
     "execution_count": 1037,
     "metadata": {},
     "output_type": "execute_result"
    }
   ],
   "source": [
    "# Check the shape after removing the columns\n",
    "loan.shape"
   ]
  },
  {
   "cell_type": "code",
   "execution_count": 1038,
   "id": "8543621c",
   "metadata": {},
   "outputs": [
    {
     "data": {
      "text/plain": [
       "id                             0.000000\n",
       "member_id                      0.000000\n",
       "loan_amnt                      0.000000\n",
       "funded_amnt                    0.000000\n",
       "funded_amnt_inv                0.000000\n",
       "term                           0.000000\n",
       "int_rate                       0.000000\n",
       "installment                    0.000000\n",
       "grade                          0.000000\n",
       "sub_grade                      0.000000\n",
       "emp_title                      6.191303\n",
       "emp_length                     2.706650\n",
       "home_ownership                 0.000000\n",
       "annual_inc                     0.000000\n",
       "verification_status            0.000000\n",
       "issue_d                        0.000000\n",
       "loan_status                    0.000000\n",
       "pymnt_plan                     0.000000\n",
       "url                            0.000000\n",
       "desc                          32.580507\n",
       "purpose                        0.000000\n",
       "title                          0.027696\n",
       "zip_code                       0.000000\n",
       "addr_state                     0.000000\n",
       "dti                            0.000000\n",
       "delinq_2yrs                    0.000000\n",
       "earliest_cr_line               0.000000\n",
       "inq_last_6mths                 0.000000\n",
       "mths_since_last_delinq        64.662487\n",
       "open_acc                       0.000000\n",
       "pub_rec                        0.000000\n",
       "revol_bal                      0.000000\n",
       "revol_util                     0.125891\n",
       "total_acc                      0.000000\n",
       "initial_list_status            0.000000\n",
       "out_prncp                      0.000000\n",
       "out_prncp_inv                  0.000000\n",
       "total_pymnt                    0.000000\n",
       "total_pymnt_inv                0.000000\n",
       "total_rec_prncp                0.000000\n",
       "total_rec_int                  0.000000\n",
       "total_rec_late_fee             0.000000\n",
       "recoveries                     0.000000\n",
       "collection_recovery_fee        0.000000\n",
       "last_pymnt_d                   0.178765\n",
       "last_pymnt_amnt                0.000000\n",
       "last_credit_pull_d             0.005036\n",
       "collections_12_mths_ex_med     0.140998\n",
       "policy_code                    0.000000\n",
       "application_type               0.000000\n",
       "acc_now_delinq                 0.000000\n",
       "chargeoff_within_12_mths       0.140998\n",
       "delinq_amnt                    0.000000\n",
       "pub_rec_bankruptcies           1.754916\n",
       "tax_liens                      0.098195\n",
       "dtype: float64"
      ]
     },
     "execution_count": 1038,
     "metadata": {},
     "output_type": "execute_result"
    }
   ],
   "source": [
    "# Again check the percentage of missing values in each column\n",
    "(loan.isnull().sum()/len(loan.index))*100"
   ]
  },
  {
   "cell_type": "markdown",
   "id": "a96e0347",
   "metadata": {},
   "source": [
    " So we can see there are 2 columns \"description\" and \"months since last delinquent\" having approx 32% and 64% missing values"
   ]
  },
  {
   "cell_type": "code",
   "execution_count": 1039,
   "id": "4ae2b226",
   "metadata": {},
   "outputs": [],
   "source": [
    "# So I decided to drop this two columns also\n",
    "loan = loan.drop([\"desc\", \"mths_since_last_delinq\"], axis=1)"
   ]
  },
  {
   "cell_type": "code",
   "execution_count": 1040,
   "id": "33d776aa",
   "metadata": {},
   "outputs": [
    {
     "data": {
      "text/plain": [
       "id                            0.000000\n",
       "member_id                     0.000000\n",
       "loan_amnt                     0.000000\n",
       "funded_amnt                   0.000000\n",
       "funded_amnt_inv               0.000000\n",
       "term                          0.000000\n",
       "int_rate                      0.000000\n",
       "installment                   0.000000\n",
       "grade                         0.000000\n",
       "sub_grade                     0.000000\n",
       "emp_title                     6.191303\n",
       "emp_length                    2.706650\n",
       "home_ownership                0.000000\n",
       "annual_inc                    0.000000\n",
       "verification_status           0.000000\n",
       "issue_d                       0.000000\n",
       "loan_status                   0.000000\n",
       "pymnt_plan                    0.000000\n",
       "url                           0.000000\n",
       "purpose                       0.000000\n",
       "title                         0.027696\n",
       "zip_code                      0.000000\n",
       "addr_state                    0.000000\n",
       "dti                           0.000000\n",
       "delinq_2yrs                   0.000000\n",
       "earliest_cr_line              0.000000\n",
       "inq_last_6mths                0.000000\n",
       "open_acc                      0.000000\n",
       "pub_rec                       0.000000\n",
       "revol_bal                     0.000000\n",
       "revol_util                    0.125891\n",
       "total_acc                     0.000000\n",
       "initial_list_status           0.000000\n",
       "out_prncp                     0.000000\n",
       "out_prncp_inv                 0.000000\n",
       "total_pymnt                   0.000000\n",
       "total_pymnt_inv               0.000000\n",
       "total_rec_prncp               0.000000\n",
       "total_rec_int                 0.000000\n",
       "total_rec_late_fee            0.000000\n",
       "recoveries                    0.000000\n",
       "collection_recovery_fee       0.000000\n",
       "last_pymnt_d                  0.178765\n",
       "last_pymnt_amnt               0.000000\n",
       "last_credit_pull_d            0.005036\n",
       "collections_12_mths_ex_med    0.140998\n",
       "policy_code                   0.000000\n",
       "application_type              0.000000\n",
       "acc_now_delinq                0.000000\n",
       "chargeoff_within_12_mths      0.140998\n",
       "delinq_amnt                   0.000000\n",
       "pub_rec_bankruptcies          1.754916\n",
       "tax_liens                     0.098195\n",
       "dtype: float64"
      ]
     },
     "execution_count": 1040,
     "metadata": {},
     "output_type": "execute_result"
    }
   ],
   "source": [
    "# Lets check the percentage of null values again\n",
    "(loan.isnull().sum()/len(loan.index))*100"
   ]
  },
  {
   "cell_type": "code",
   "execution_count": 1041,
   "id": "48971fea",
   "metadata": {},
   "outputs": [
    {
     "data": {
      "text/plain": [
       "id                            39717\n",
       "member_id                     39717\n",
       "loan_amnt                       885\n",
       "funded_amnt                    1041\n",
       "funded_amnt_inv                8205\n",
       "term                              2\n",
       "int_rate                        371\n",
       "installment                   15383\n",
       "grade                             7\n",
       "sub_grade                        35\n",
       "emp_title                     28820\n",
       "emp_length                       11\n",
       "home_ownership                    5\n",
       "annual_inc                     5318\n",
       "verification_status               3\n",
       "issue_d                          55\n",
       "loan_status                       3\n",
       "pymnt_plan                        1\n",
       "url                           39717\n",
       "purpose                          14\n",
       "title                         19615\n",
       "zip_code                        823\n",
       "addr_state                       50\n",
       "dti                            2868\n",
       "delinq_2yrs                      11\n",
       "earliest_cr_line                526\n",
       "inq_last_6mths                    9\n",
       "open_acc                         40\n",
       "pub_rec                           5\n",
       "revol_bal                     21711\n",
       "revol_util                     1089\n",
       "total_acc                        82\n",
       "initial_list_status               1\n",
       "out_prncp                      1137\n",
       "out_prncp_inv                  1138\n",
       "total_pymnt                   37850\n",
       "total_pymnt_inv               37518\n",
       "total_rec_prncp                7976\n",
       "total_rec_int                 35148\n",
       "total_rec_late_fee             1356\n",
       "recoveries                     4040\n",
       "collection_recovery_fee        2616\n",
       "last_pymnt_d                    101\n",
       "last_pymnt_amnt               34930\n",
       "last_credit_pull_d              106\n",
       "collections_12_mths_ex_med        1\n",
       "policy_code                       1\n",
       "application_type                  1\n",
       "acc_now_delinq                    1\n",
       "chargeoff_within_12_mths          1\n",
       "delinq_amnt                       1\n",
       "pub_rec_bankruptcies              3\n",
       "tax_liens                         1\n",
       "dtype: int64"
      ]
     },
     "execution_count": 1041,
     "metadata": {},
     "output_type": "execute_result"
    }
   ],
   "source": [
    "# Check unique values in each column \n",
    "loan.nunique()"
   ]
  },
  {
   "cell_type": "code",
   "execution_count": 1042,
   "id": "7565c8c5",
   "metadata": {},
   "outputs": [],
   "source": [
    "# Delete columns which have only 1 unique value because from this columns we don't get many insights\n",
    "loan = loan.loc[:, loan.nunique() != 1]"
   ]
  },
  {
   "cell_type": "code",
   "execution_count": 1043,
   "id": "ffb3b1c9",
   "metadata": {},
   "outputs": [
    {
     "data": {
      "text/plain": [
       "(39717, 44)"
      ]
     },
     "execution_count": 1043,
     "metadata": {},
     "output_type": "execute_result"
    }
   ],
   "source": [
    "# Check the shape\n",
    "loan.shape"
   ]
  },
  {
   "cell_type": "code",
   "execution_count": 1044,
   "id": "295fd64b",
   "metadata": {},
   "outputs": [
    {
     "name": "stdout",
     "output_type": "stream",
     "text": [
      "<class 'pandas.core.frame.DataFrame'>\n",
      "RangeIndex: 39717 entries, 0 to 39716\n",
      "Data columns (total 44 columns):\n",
      " #   Column                   Non-Null Count  Dtype  \n",
      "---  ------                   --------------  -----  \n",
      " 0   id                       39717 non-null  int64  \n",
      " 1   member_id                39717 non-null  int64  \n",
      " 2   loan_amnt                39717 non-null  int64  \n",
      " 3   funded_amnt              39717 non-null  int64  \n",
      " 4   funded_amnt_inv          39717 non-null  float64\n",
      " 5   term                     39717 non-null  object \n",
      " 6   int_rate                 39717 non-null  object \n",
      " 7   installment              39717 non-null  float64\n",
      " 8   grade                    39717 non-null  object \n",
      " 9   sub_grade                39717 non-null  object \n",
      " 10  emp_title                37258 non-null  object \n",
      " 11  emp_length               38642 non-null  object \n",
      " 12  home_ownership           39717 non-null  object \n",
      " 13  annual_inc               39717 non-null  float64\n",
      " 14  verification_status      39717 non-null  object \n",
      " 15  issue_d                  39717 non-null  object \n",
      " 16  loan_status              39717 non-null  object \n",
      " 17  url                      39717 non-null  object \n",
      " 18  purpose                  39717 non-null  object \n",
      " 19  title                    39706 non-null  object \n",
      " 20  zip_code                 39717 non-null  object \n",
      " 21  addr_state               39717 non-null  object \n",
      " 22  dti                      39717 non-null  float64\n",
      " 23  delinq_2yrs              39717 non-null  int64  \n",
      " 24  earliest_cr_line         39717 non-null  object \n",
      " 25  inq_last_6mths           39717 non-null  int64  \n",
      " 26  open_acc                 39717 non-null  int64  \n",
      " 27  pub_rec                  39717 non-null  int64  \n",
      " 28  revol_bal                39717 non-null  int64  \n",
      " 29  revol_util               39667 non-null  object \n",
      " 30  total_acc                39717 non-null  int64  \n",
      " 31  out_prncp                39717 non-null  float64\n",
      " 32  out_prncp_inv            39717 non-null  float64\n",
      " 33  total_pymnt              39717 non-null  float64\n",
      " 34  total_pymnt_inv          39717 non-null  float64\n",
      " 35  total_rec_prncp          39717 non-null  float64\n",
      " 36  total_rec_int            39717 non-null  float64\n",
      " 37  total_rec_late_fee       39717 non-null  float64\n",
      " 38  recoveries               39717 non-null  float64\n",
      " 39  collection_recovery_fee  39717 non-null  float64\n",
      " 40  last_pymnt_d             39646 non-null  object \n",
      " 41  last_pymnt_amnt          39717 non-null  float64\n",
      " 42  last_credit_pull_d       39715 non-null  object \n",
      " 43  pub_rec_bankruptcies     39020 non-null  float64\n",
      "dtypes: float64(15), int64(10), object(19)\n",
      "memory usage: 13.3+ MB\n"
     ]
    }
   ],
   "source": [
    "# Check the data type of the columns in the dataframe\n",
    "loan.info()"
   ]
  },
  {
   "cell_type": "code",
   "execution_count": 1045,
   "id": "0b7e1d8c",
   "metadata": {},
   "outputs": [],
   "source": [
    "# The column term is character type, converting it to int\n",
    "\n",
    "loan[\"term\"] = loan.term.apply(lambda x: x.split(\"month\")[0])\n",
    "loan[\"term\"] = loan.term.astype('int64')"
   ]
  },
  {
   "cell_type": "code",
   "execution_count": 1046,
   "id": "ac11f35f",
   "metadata": {},
   "outputs": [],
   "source": [
    "# The column int_rate is character type, converting it to float\n",
    "loan[\"int_rate\"] = loan.int_rate.apply(lambda x: x.split(\"%\")[0])\n",
    "loan[\"int_rate\"] = loan.int_rate.astype('float')"
   ]
  },
  {
   "cell_type": "code",
   "execution_count": 1047,
   "id": "f79e911a",
   "metadata": {},
   "outputs": [
    {
     "name": "stdout",
     "output_type": "stream",
     "text": [
      "<class 'pandas.core.frame.DataFrame'>\n",
      "RangeIndex: 39717 entries, 0 to 39716\n",
      "Data columns (total 44 columns):\n",
      " #   Column                   Non-Null Count  Dtype  \n",
      "---  ------                   --------------  -----  \n",
      " 0   id                       39717 non-null  int64  \n",
      " 1   member_id                39717 non-null  int64  \n",
      " 2   loan_amnt                39717 non-null  int64  \n",
      " 3   funded_amnt              39717 non-null  int64  \n",
      " 4   funded_amnt_inv          39717 non-null  float64\n",
      " 5   term                     39717 non-null  int64  \n",
      " 6   int_rate                 39717 non-null  float64\n",
      " 7   installment              39717 non-null  float64\n",
      " 8   grade                    39717 non-null  object \n",
      " 9   sub_grade                39717 non-null  object \n",
      " 10  emp_title                37258 non-null  object \n",
      " 11  emp_length               38642 non-null  object \n",
      " 12  home_ownership           39717 non-null  object \n",
      " 13  annual_inc               39717 non-null  float64\n",
      " 14  verification_status      39717 non-null  object \n",
      " 15  issue_d                  39717 non-null  object \n",
      " 16  loan_status              39717 non-null  object \n",
      " 17  url                      39717 non-null  object \n",
      " 18  purpose                  39717 non-null  object \n",
      " 19  title                    39706 non-null  object \n",
      " 20  zip_code                 39717 non-null  object \n",
      " 21  addr_state               39717 non-null  object \n",
      " 22  dti                      39717 non-null  float64\n",
      " 23  delinq_2yrs              39717 non-null  int64  \n",
      " 24  earliest_cr_line         39717 non-null  object \n",
      " 25  inq_last_6mths           39717 non-null  int64  \n",
      " 26  open_acc                 39717 non-null  int64  \n",
      " 27  pub_rec                  39717 non-null  int64  \n",
      " 28  revol_bal                39717 non-null  int64  \n",
      " 29  revol_util               39667 non-null  object \n",
      " 30  total_acc                39717 non-null  int64  \n",
      " 31  out_prncp                39717 non-null  float64\n",
      " 32  out_prncp_inv            39717 non-null  float64\n",
      " 33  total_pymnt              39717 non-null  float64\n",
      " 34  total_pymnt_inv          39717 non-null  float64\n",
      " 35  total_rec_prncp          39717 non-null  float64\n",
      " 36  total_rec_int            39717 non-null  float64\n",
      " 37  total_rec_late_fee       39717 non-null  float64\n",
      " 38  recoveries               39717 non-null  float64\n",
      " 39  collection_recovery_fee  39717 non-null  float64\n",
      " 40  last_pymnt_d             39646 non-null  object \n",
      " 41  last_pymnt_amnt          39717 non-null  float64\n",
      " 42  last_credit_pull_d       39715 non-null  object \n",
      " 43  pub_rec_bankruptcies     39020 non-null  float64\n",
      "dtypes: float64(16), int64(11), object(17)\n",
      "memory usage: 13.3+ MB\n"
     ]
    }
   ],
   "source": [
    "loan.info()"
   ]
  },
  {
   "cell_type": "code",
   "execution_count": 1048,
   "id": "055fcdc9",
   "metadata": {},
   "outputs": [],
   "source": [
    "# Extracting the numeric part from the variable employment length\n",
    "\n",
    "# Droping the missing values from the column \n",
    "loan = loan[~loan['emp_length'].isnull()]\n",
    "\n",
    "# writing a function numeric that will return digits from given string.\n",
    "\n",
    "def numeric(n):\n",
    "    string = \"\"\n",
    "    for word in n:\n",
    "        if word.isdigit():\n",
    "            string = string + word\n",
    "    return string\n",
    "\n",
    "# Using numeric function to extract numeric values from the string\n",
    "loan['emp_length'] = loan['emp_length'].apply(lambda x: numeric(x))\n",
    "\n",
    "# converting to integer datatype\n",
    "loan['emp_length'] = loan['emp_length'].astype('int64')"
   ]
  },
  {
   "cell_type": "code",
   "execution_count": 1049,
   "id": "b2e49dfa",
   "metadata": {},
   "outputs": [
    {
     "name": "stdout",
     "output_type": "stream",
     "text": [
      "<class 'pandas.core.frame.DataFrame'>\n",
      "Int64Index: 38642 entries, 0 to 39716\n",
      "Data columns (total 44 columns):\n",
      " #   Column                   Non-Null Count  Dtype  \n",
      "---  ------                   --------------  -----  \n",
      " 0   id                       38642 non-null  int64  \n",
      " 1   member_id                38642 non-null  int64  \n",
      " 2   loan_amnt                38642 non-null  int64  \n",
      " 3   funded_amnt              38642 non-null  int64  \n",
      " 4   funded_amnt_inv          38642 non-null  float64\n",
      " 5   term                     38642 non-null  int64  \n",
      " 6   int_rate                 38642 non-null  float64\n",
      " 7   installment              38642 non-null  float64\n",
      " 8   grade                    38642 non-null  object \n",
      " 9   sub_grade                38642 non-null  object \n",
      " 10  emp_title                37202 non-null  object \n",
      " 11  emp_length               38642 non-null  int64  \n",
      " 12  home_ownership           38642 non-null  object \n",
      " 13  annual_inc               38642 non-null  float64\n",
      " 14  verification_status      38642 non-null  object \n",
      " 15  issue_d                  38642 non-null  object \n",
      " 16  loan_status              38642 non-null  object \n",
      " 17  url                      38642 non-null  object \n",
      " 18  purpose                  38642 non-null  object \n",
      " 19  title                    38632 non-null  object \n",
      " 20  zip_code                 38642 non-null  object \n",
      " 21  addr_state               38642 non-null  object \n",
      " 22  dti                      38642 non-null  float64\n",
      " 23  delinq_2yrs              38642 non-null  int64  \n",
      " 24  earliest_cr_line         38642 non-null  object \n",
      " 25  inq_last_6mths           38642 non-null  int64  \n",
      " 26  open_acc                 38642 non-null  int64  \n",
      " 27  pub_rec                  38642 non-null  int64  \n",
      " 28  revol_bal                38642 non-null  int64  \n",
      " 29  revol_util               38595 non-null  object \n",
      " 30  total_acc                38642 non-null  int64  \n",
      " 31  out_prncp                38642 non-null  float64\n",
      " 32  out_prncp_inv            38642 non-null  float64\n",
      " 33  total_pymnt              38642 non-null  float64\n",
      " 34  total_pymnt_inv          38642 non-null  float64\n",
      " 35  total_rec_prncp          38642 non-null  float64\n",
      " 36  total_rec_int            38642 non-null  float64\n",
      " 37  total_rec_late_fee       38642 non-null  float64\n",
      " 38  recoveries               38642 non-null  float64\n",
      " 39  collection_recovery_fee  38642 non-null  float64\n",
      " 40  last_pymnt_d             38576 non-null  object \n",
      " 41  last_pymnt_amnt          38642 non-null  float64\n",
      " 42  last_credit_pull_d       38640 non-null  object \n",
      " 43  pub_rec_bankruptcies     37945 non-null  float64\n",
      "dtypes: float64(16), int64(12), object(16)\n",
      "memory usage: 13.3+ MB\n"
     ]
    }
   ],
   "source": [
    "loan.info()"
   ]
  },
  {
   "cell_type": "markdown",
   "id": "d237d7e4",
   "metadata": {},
   "source": [
    "## Data Analysis"
   ]
  },
  {
   "cell_type": "code",
   "execution_count": 1050,
   "id": "330487ed",
   "metadata": {},
   "outputs": [],
   "source": [
    "# To do Data Analysis we have to remove some columns which are not required\n",
    "extra_columns = [\n",
    "  \"delinq_2yrs\",\n",
    "  \"earliest_cr_line\",\n",
    "  \"inq_last_6mths\",\n",
    "  \"open_acc\",\n",
    "  \"pub_rec\",\n",
    "  \"revol_bal\",\n",
    "  \"revol_util\",\n",
    "  \"total_acc\",\n",
    "  \"out_prncp\",\n",
    "  \"out_prncp_inv\",\n",
    "  \"total_pymnt\",\n",
    "  \"total_pymnt_inv\",\n",
    "  \"total_rec_prncp\",\n",
    "  \"total_rec_int\",\n",
    "  \"total_rec_late_fee\",\n",
    "  \"recoveries\",\n",
    "  \"collection_recovery_fee\",\n",
    "  \"last_pymnt_d\",\n",
    "  \"last_pymnt_amnt\",\n",
    "  \"last_credit_pull_d\"]"
   ]
  },
  {
   "cell_type": "code",
   "execution_count": 1051,
   "id": "11812711",
   "metadata": {},
   "outputs": [],
   "source": [
    "# let's now remove the extra_columns variables from analysis\n",
    "loan_data = loan.drop(extra_columns, axis=1)"
   ]
  },
  {
   "cell_type": "code",
   "execution_count": 1052,
   "id": "aa554901",
   "metadata": {},
   "outputs": [
    {
     "name": "stdout",
     "output_type": "stream",
     "text": [
      "<class 'pandas.core.frame.DataFrame'>\n",
      "Int64Index: 38642 entries, 0 to 39716\n",
      "Data columns (total 24 columns):\n",
      " #   Column                Non-Null Count  Dtype  \n",
      "---  ------                --------------  -----  \n",
      " 0   id                    38642 non-null  int64  \n",
      " 1   member_id             38642 non-null  int64  \n",
      " 2   loan_amnt             38642 non-null  int64  \n",
      " 3   funded_amnt           38642 non-null  int64  \n",
      " 4   funded_amnt_inv       38642 non-null  float64\n",
      " 5   term                  38642 non-null  int64  \n",
      " 6   int_rate              38642 non-null  float64\n",
      " 7   installment           38642 non-null  float64\n",
      " 8   grade                 38642 non-null  object \n",
      " 9   sub_grade             38642 non-null  object \n",
      " 10  emp_title             37202 non-null  object \n",
      " 11  emp_length            38642 non-null  int64  \n",
      " 12  home_ownership        38642 non-null  object \n",
      " 13  annual_inc            38642 non-null  float64\n",
      " 14  verification_status   38642 non-null  object \n",
      " 15  issue_d               38642 non-null  object \n",
      " 16  loan_status           38642 non-null  object \n",
      " 17  url                   38642 non-null  object \n",
      " 18  purpose               38642 non-null  object \n",
      " 19  title                 38632 non-null  object \n",
      " 20  zip_code              38642 non-null  object \n",
      " 21  addr_state            38642 non-null  object \n",
      " 22  dti                   38642 non-null  float64\n",
      " 23  pub_rec_bankruptcies  37945 non-null  float64\n",
      "dtypes: float64(6), int64(6), object(12)\n",
      "memory usage: 7.4+ MB\n"
     ]
    }
   ],
   "source": [
    "loan_data.info()"
   ]
  },
  {
   "cell_type": "code",
   "execution_count": 1053,
   "id": "0377abcb",
   "metadata": {},
   "outputs": [],
   "source": [
    "# Also zip code, address, state, title columns are not required in the further analysis\n",
    "loan_data= loan_data.drop(['title', 'url', 'zip_code', 'addr_state'], axis=1)"
   ]
  },
  {
   "cell_type": "code",
   "execution_count": 1054,
   "id": "0fba8718",
   "metadata": {},
   "outputs": [
    {
     "data": {
      "text/plain": [
       "Fully Paid     32145\n",
       "Charged Off     5399\n",
       "Current         1098\n",
       "Name: loan_status, dtype: int64"
      ]
     },
     "execution_count": 1054,
     "metadata": {},
     "output_type": "execute_result"
    }
   ],
   "source": [
    "# Change the type of loan_status\n",
    "loan_data[\"loan_status\"] = loan_data[\"loan_status\"].astype(\"category\")\n",
    "loan_data[\"loan_status\"].value_counts()"
   ]
  },
  {
   "cell_type": "markdown",
   "id": "3d2f3a1a",
   "metadata": {},
   "source": [
    "So we can see that fully paid comprises most of the loans. The ones marked 'current' means are neither fully paid or not defaulted, so let's get remove the current loans. Also, let's tag the other two values as 0 or 1."
   ]
  },
  {
   "cell_type": "code",
   "execution_count": 1055,
   "id": "b1cbc2a2",
   "metadata": {},
   "outputs": [
    {
     "data": {
      "text/plain": [
       "0    32145\n",
       "1     5399\n",
       "Name: loan_status, dtype: int64"
      ]
     },
     "execution_count": 1055,
     "metadata": {},
     "output_type": "execute_result"
    }
   ],
   "source": [
    "# filtering only fully paid or charged-off\n",
    "loan_data = loan_data[loan_data['loan_status'] != 'Current']\n",
    "\n",
    "# Lets tag 0 or 1\n",
    "loan_data['loan_status'] = loan_data['loan_status'].apply(lambda x: 0 if x=='Fully Paid' else 1)\n",
    "\n",
    "# converting loan_status to integer type\n",
    "loan_data['loan_status'] = loan_data['loan_status'].apply(lambda x: pd.to_numeric(x))\n",
    "\n",
    "# Lets check the value_counts\n",
    "loan_data['loan_status'].value_counts()"
   ]
  },
  {
   "cell_type": "code",
   "execution_count": 1056,
   "id": "067fe983",
   "metadata": {
    "scrolled": true
   },
   "outputs": [
    {
     "data": {
      "text/html": [
       "<div>\n",
       "<style scoped>\n",
       "    .dataframe tbody tr th:only-of-type {\n",
       "        vertical-align: middle;\n",
       "    }\n",
       "\n",
       "    .dataframe tbody tr th {\n",
       "        vertical-align: top;\n",
       "    }\n",
       "\n",
       "    .dataframe thead th {\n",
       "        text-align: right;\n",
       "    }\n",
       "</style>\n",
       "<table border=\"1\" class=\"dataframe\">\n",
       "  <thead>\n",
       "    <tr style=\"text-align: right;\">\n",
       "      <th></th>\n",
       "      <th>id</th>\n",
       "      <th>member_id</th>\n",
       "      <th>loan_amnt</th>\n",
       "      <th>funded_amnt</th>\n",
       "      <th>funded_amnt_inv</th>\n",
       "      <th>term</th>\n",
       "      <th>int_rate</th>\n",
       "      <th>installment</th>\n",
       "      <th>grade</th>\n",
       "      <th>sub_grade</th>\n",
       "      <th>...</th>\n",
       "      <th>emp_length</th>\n",
       "      <th>home_ownership</th>\n",
       "      <th>annual_inc</th>\n",
       "      <th>verification_status</th>\n",
       "      <th>issue_d</th>\n",
       "      <th>loan_status</th>\n",
       "      <th>purpose</th>\n",
       "      <th>dti</th>\n",
       "      <th>pub_rec_bankruptcies</th>\n",
       "      <th>loan_inc_ratio</th>\n",
       "    </tr>\n",
       "  </thead>\n",
       "  <tbody>\n",
       "    <tr>\n",
       "      <th>0</th>\n",
       "      <td>1077501</td>\n",
       "      <td>1296599</td>\n",
       "      <td>5000</td>\n",
       "      <td>5000</td>\n",
       "      <td>4975.0</td>\n",
       "      <td>36</td>\n",
       "      <td>10.65</td>\n",
       "      <td>162.87</td>\n",
       "      <td>B</td>\n",
       "      <td>B2</td>\n",
       "      <td>...</td>\n",
       "      <td>10</td>\n",
       "      <td>RENT</td>\n",
       "      <td>24000.0</td>\n",
       "      <td>Verified</td>\n",
       "      <td>Dec-11</td>\n",
       "      <td>0</td>\n",
       "      <td>credit_card</td>\n",
       "      <td>27.65</td>\n",
       "      <td>0.0</td>\n",
       "      <td>20.833333</td>\n",
       "    </tr>\n",
       "    <tr>\n",
       "      <th>1</th>\n",
       "      <td>1077430</td>\n",
       "      <td>1314167</td>\n",
       "      <td>2500</td>\n",
       "      <td>2500</td>\n",
       "      <td>2500.0</td>\n",
       "      <td>60</td>\n",
       "      <td>15.27</td>\n",
       "      <td>59.83</td>\n",
       "      <td>C</td>\n",
       "      <td>C4</td>\n",
       "      <td>...</td>\n",
       "      <td>1</td>\n",
       "      <td>RENT</td>\n",
       "      <td>30000.0</td>\n",
       "      <td>Source Verified</td>\n",
       "      <td>Dec-11</td>\n",
       "      <td>1</td>\n",
       "      <td>car</td>\n",
       "      <td>1.00</td>\n",
       "      <td>0.0</td>\n",
       "      <td>8.333333</td>\n",
       "    </tr>\n",
       "    <tr>\n",
       "      <th>2</th>\n",
       "      <td>1077175</td>\n",
       "      <td>1313524</td>\n",
       "      <td>2400</td>\n",
       "      <td>2400</td>\n",
       "      <td>2400.0</td>\n",
       "      <td>36</td>\n",
       "      <td>15.96</td>\n",
       "      <td>84.33</td>\n",
       "      <td>C</td>\n",
       "      <td>C5</td>\n",
       "      <td>...</td>\n",
       "      <td>10</td>\n",
       "      <td>RENT</td>\n",
       "      <td>12252.0</td>\n",
       "      <td>Not Verified</td>\n",
       "      <td>Dec-11</td>\n",
       "      <td>0</td>\n",
       "      <td>small_business</td>\n",
       "      <td>8.72</td>\n",
       "      <td>0.0</td>\n",
       "      <td>19.588639</td>\n",
       "    </tr>\n",
       "    <tr>\n",
       "      <th>3</th>\n",
       "      <td>1076863</td>\n",
       "      <td>1277178</td>\n",
       "      <td>10000</td>\n",
       "      <td>10000</td>\n",
       "      <td>10000.0</td>\n",
       "      <td>36</td>\n",
       "      <td>13.49</td>\n",
       "      <td>339.31</td>\n",
       "      <td>C</td>\n",
       "      <td>C1</td>\n",
       "      <td>...</td>\n",
       "      <td>10</td>\n",
       "      <td>RENT</td>\n",
       "      <td>49200.0</td>\n",
       "      <td>Source Verified</td>\n",
       "      <td>Dec-11</td>\n",
       "      <td>0</td>\n",
       "      <td>other</td>\n",
       "      <td>20.00</td>\n",
       "      <td>0.0</td>\n",
       "      <td>20.325203</td>\n",
       "    </tr>\n",
       "    <tr>\n",
       "      <th>5</th>\n",
       "      <td>1075269</td>\n",
       "      <td>1311441</td>\n",
       "      <td>5000</td>\n",
       "      <td>5000</td>\n",
       "      <td>5000.0</td>\n",
       "      <td>36</td>\n",
       "      <td>7.90</td>\n",
       "      <td>156.46</td>\n",
       "      <td>A</td>\n",
       "      <td>A4</td>\n",
       "      <td>...</td>\n",
       "      <td>3</td>\n",
       "      <td>RENT</td>\n",
       "      <td>36000.0</td>\n",
       "      <td>Source Verified</td>\n",
       "      <td>Dec-11</td>\n",
       "      <td>0</td>\n",
       "      <td>wedding</td>\n",
       "      <td>11.20</td>\n",
       "      <td>0.0</td>\n",
       "      <td>13.888889</td>\n",
       "    </tr>\n",
       "  </tbody>\n",
       "</table>\n",
       "<p>5 rows × 21 columns</p>\n",
       "</div>"
      ],
      "text/plain": [
       "        id  member_id  loan_amnt  funded_amnt  funded_amnt_inv  term  \\\n",
       "0  1077501    1296599       5000         5000           4975.0    36   \n",
       "1  1077430    1314167       2500         2500           2500.0    60   \n",
       "2  1077175    1313524       2400         2400           2400.0    36   \n",
       "3  1076863    1277178      10000        10000          10000.0    36   \n",
       "5  1075269    1311441       5000         5000           5000.0    36   \n",
       "\n",
       "   int_rate  installment grade sub_grade  ... emp_length  home_ownership  \\\n",
       "0     10.65       162.87     B        B2  ...         10            RENT   \n",
       "1     15.27        59.83     C        C4  ...          1            RENT   \n",
       "2     15.96        84.33     C        C5  ...         10            RENT   \n",
       "3     13.49       339.31     C        C1  ...         10            RENT   \n",
       "5      7.90       156.46     A        A4  ...          3            RENT   \n",
       "\n",
       "  annual_inc  verification_status issue_d loan_status         purpose    dti  \\\n",
       "0    24000.0             Verified  Dec-11           0     credit_card  27.65   \n",
       "1    30000.0      Source Verified  Dec-11           1             car   1.00   \n",
       "2    12252.0         Not Verified  Dec-11           0  small_business   8.72   \n",
       "3    49200.0      Source Verified  Dec-11           0           other  20.00   \n",
       "5    36000.0      Source Verified  Dec-11           0         wedding  11.20   \n",
       "\n",
       "   pub_rec_bankruptcies  loan_inc_ratio  \n",
       "0                   0.0       20.833333  \n",
       "1                   0.0        8.333333  \n",
       "2                   0.0       19.588639  \n",
       "3                   0.0       20.325203  \n",
       "5                   0.0       13.888889  \n",
       "\n",
       "[5 rows x 21 columns]"
      ]
     },
     "execution_count": 1056,
     "metadata": {},
     "output_type": "execute_result"
    }
   ],
   "source": [
    "# create a new column for loan to income ratio\n",
    "\n",
    "loan_data['loan_inc_ratio']= 100*(loan_data['loan_amnt']/loan_data['annual_inc'])\n",
    "loan_data.head()"
   ]
  },
  {
   "cell_type": "code",
   "execution_count": 1057,
   "id": "e42eef35",
   "metadata": {
    "scrolled": true
   },
   "outputs": [
    {
     "data": {
      "text/html": [
       "<div>\n",
       "<style scoped>\n",
       "    .dataframe tbody tr th:only-of-type {\n",
       "        vertical-align: middle;\n",
       "    }\n",
       "\n",
       "    .dataframe tbody tr th {\n",
       "        vertical-align: top;\n",
       "    }\n",
       "\n",
       "    .dataframe thead th {\n",
       "        text-align: right;\n",
       "    }\n",
       "</style>\n",
       "<table border=\"1\" class=\"dataframe\">\n",
       "  <thead>\n",
       "    <tr style=\"text-align: right;\">\n",
       "      <th></th>\n",
       "      <th>id</th>\n",
       "      <th>member_id</th>\n",
       "      <th>loan_amnt</th>\n",
       "      <th>funded_amnt</th>\n",
       "      <th>funded_amnt_inv</th>\n",
       "      <th>term</th>\n",
       "      <th>int_rate</th>\n",
       "      <th>installment</th>\n",
       "      <th>grade</th>\n",
       "      <th>sub_grade</th>\n",
       "      <th>...</th>\n",
       "      <th>annual_inc</th>\n",
       "      <th>verification_status</th>\n",
       "      <th>issue_d</th>\n",
       "      <th>loan_status</th>\n",
       "      <th>purpose</th>\n",
       "      <th>dti</th>\n",
       "      <th>pub_rec_bankruptcies</th>\n",
       "      <th>loan_inc_ratio</th>\n",
       "      <th>issue_month</th>\n",
       "      <th>issue_year</th>\n",
       "    </tr>\n",
       "  </thead>\n",
       "  <tbody>\n",
       "    <tr>\n",
       "      <th>0</th>\n",
       "      <td>1077501</td>\n",
       "      <td>1296599</td>\n",
       "      <td>5000</td>\n",
       "      <td>5000</td>\n",
       "      <td>4975.0</td>\n",
       "      <td>36</td>\n",
       "      <td>10.65</td>\n",
       "      <td>162.87</td>\n",
       "      <td>B</td>\n",
       "      <td>B2</td>\n",
       "      <td>...</td>\n",
       "      <td>24000.0</td>\n",
       "      <td>Verified</td>\n",
       "      <td>Dec-11</td>\n",
       "      <td>0</td>\n",
       "      <td>credit_card</td>\n",
       "      <td>27.65</td>\n",
       "      <td>0.0</td>\n",
       "      <td>20.833333</td>\n",
       "      <td>Dec</td>\n",
       "      <td>2011</td>\n",
       "    </tr>\n",
       "    <tr>\n",
       "      <th>1</th>\n",
       "      <td>1077430</td>\n",
       "      <td>1314167</td>\n",
       "      <td>2500</td>\n",
       "      <td>2500</td>\n",
       "      <td>2500.0</td>\n",
       "      <td>60</td>\n",
       "      <td>15.27</td>\n",
       "      <td>59.83</td>\n",
       "      <td>C</td>\n",
       "      <td>C4</td>\n",
       "      <td>...</td>\n",
       "      <td>30000.0</td>\n",
       "      <td>Source Verified</td>\n",
       "      <td>Dec-11</td>\n",
       "      <td>1</td>\n",
       "      <td>car</td>\n",
       "      <td>1.00</td>\n",
       "      <td>0.0</td>\n",
       "      <td>8.333333</td>\n",
       "      <td>Dec</td>\n",
       "      <td>2011</td>\n",
       "    </tr>\n",
       "    <tr>\n",
       "      <th>2</th>\n",
       "      <td>1077175</td>\n",
       "      <td>1313524</td>\n",
       "      <td>2400</td>\n",
       "      <td>2400</td>\n",
       "      <td>2400.0</td>\n",
       "      <td>36</td>\n",
       "      <td>15.96</td>\n",
       "      <td>84.33</td>\n",
       "      <td>C</td>\n",
       "      <td>C5</td>\n",
       "      <td>...</td>\n",
       "      <td>12252.0</td>\n",
       "      <td>Not Verified</td>\n",
       "      <td>Dec-11</td>\n",
       "      <td>0</td>\n",
       "      <td>small_business</td>\n",
       "      <td>8.72</td>\n",
       "      <td>0.0</td>\n",
       "      <td>19.588639</td>\n",
       "      <td>Dec</td>\n",
       "      <td>2011</td>\n",
       "    </tr>\n",
       "    <tr>\n",
       "      <th>3</th>\n",
       "      <td>1076863</td>\n",
       "      <td>1277178</td>\n",
       "      <td>10000</td>\n",
       "      <td>10000</td>\n",
       "      <td>10000.0</td>\n",
       "      <td>36</td>\n",
       "      <td>13.49</td>\n",
       "      <td>339.31</td>\n",
       "      <td>C</td>\n",
       "      <td>C1</td>\n",
       "      <td>...</td>\n",
       "      <td>49200.0</td>\n",
       "      <td>Source Verified</td>\n",
       "      <td>Dec-11</td>\n",
       "      <td>0</td>\n",
       "      <td>other</td>\n",
       "      <td>20.00</td>\n",
       "      <td>0.0</td>\n",
       "      <td>20.325203</td>\n",
       "      <td>Dec</td>\n",
       "      <td>2011</td>\n",
       "    </tr>\n",
       "    <tr>\n",
       "      <th>5</th>\n",
       "      <td>1075269</td>\n",
       "      <td>1311441</td>\n",
       "      <td>5000</td>\n",
       "      <td>5000</td>\n",
       "      <td>5000.0</td>\n",
       "      <td>36</td>\n",
       "      <td>7.90</td>\n",
       "      <td>156.46</td>\n",
       "      <td>A</td>\n",
       "      <td>A4</td>\n",
       "      <td>...</td>\n",
       "      <td>36000.0</td>\n",
       "      <td>Source Verified</td>\n",
       "      <td>Dec-11</td>\n",
       "      <td>0</td>\n",
       "      <td>wedding</td>\n",
       "      <td>11.20</td>\n",
       "      <td>0.0</td>\n",
       "      <td>13.888889</td>\n",
       "      <td>Dec</td>\n",
       "      <td>2011</td>\n",
       "    </tr>\n",
       "  </tbody>\n",
       "</table>\n",
       "<p>5 rows × 23 columns</p>\n",
       "</div>"
      ],
      "text/plain": [
       "        id  member_id  loan_amnt  funded_amnt  funded_amnt_inv  term  \\\n",
       "0  1077501    1296599       5000         5000           4975.0    36   \n",
       "1  1077430    1314167       2500         2500           2500.0    60   \n",
       "2  1077175    1313524       2400         2400           2400.0    36   \n",
       "3  1076863    1277178      10000        10000          10000.0    36   \n",
       "5  1075269    1311441       5000         5000           5000.0    36   \n",
       "\n",
       "   int_rate  installment grade sub_grade  ... annual_inc  verification_status  \\\n",
       "0     10.65       162.87     B        B2  ...    24000.0             Verified   \n",
       "1     15.27        59.83     C        C4  ...    30000.0      Source Verified   \n",
       "2     15.96        84.33     C        C5  ...    12252.0         Not Verified   \n",
       "3     13.49       339.31     C        C1  ...    49200.0      Source Verified   \n",
       "5      7.90       156.46     A        A4  ...    36000.0      Source Verified   \n",
       "\n",
       "  issue_d  loan_status         purpose    dti  pub_rec_bankruptcies  \\\n",
       "0  Dec-11            0     credit_card  27.65                   0.0   \n",
       "1  Dec-11            1             car   1.00                   0.0   \n",
       "2  Dec-11            0  small_business   8.72                   0.0   \n",
       "3  Dec-11            0           other  20.00                   0.0   \n",
       "5  Dec-11            0         wedding  11.20                   0.0   \n",
       "\n",
       "  loan_inc_ratio  issue_month  issue_year  \n",
       "0      20.833333          Dec        2011  \n",
       "1       8.333333          Dec        2011  \n",
       "2      19.588639          Dec        2011  \n",
       "3      20.325203          Dec        2011  \n",
       "5      13.888889          Dec        2011  \n",
       "\n",
       "[5 rows x 23 columns]"
      ]
     },
     "execution_count": 1057,
     "metadata": {},
     "output_type": "execute_result"
    }
   ],
   "source": [
    "# Extract Year and month from Issue_Date to seperate columns\n",
    "\n",
    "loan_data['issue_month'],loan_data['issue_year'] = loan_data['issue_d'].str.split('-', 1).str\n",
    "loan_data['issue_year'] = '20'+ loan_data['issue_year']\n",
    "loan_data.head()"
   ]
  },
  {
   "cell_type": "code",
   "execution_count": 1058,
   "id": "8388d300",
   "metadata": {},
   "outputs": [
    {
     "data": {
      "text/plain": [
       "0.25     9.791131\n",
       "0.50    16.229051\n",
       "0.75    25.000000\n",
       "Name: loan_inc_ratio, dtype: float64"
      ]
     },
     "execution_count": 1058,
     "metadata": {},
     "output_type": "execute_result"
    }
   ],
   "source": [
    "# Get the 25%, 50% and 75% quartiles of the loan_inc_ratio column for categorisation\n",
    "loan_data[\"loan_inc_ratio\"].quantile([.25, .5, .75])"
   ]
  },
  {
   "cell_type": "code",
   "execution_count": 1059,
   "id": "bd01551f",
   "metadata": {},
   "outputs": [
    {
     "data": {
      "text/plain": [
       "14.38"
      ]
     },
     "execution_count": 1059,
     "metadata": {},
     "output_type": "execute_result"
    }
   ],
   "source": [
    "# Check the default rate\n",
    "round(np.mean(loan_data[\"loan_status\"])*100, 2)"
   ]
  },
  {
   "cell_type": "markdown",
   "id": "0e05d0e0",
   "metadata": {},
   "source": [
    "The overall default rate is about 14.38%."
   ]
  },
  {
   "cell_type": "code",
   "execution_count": 1060,
   "id": "b24328cd",
   "metadata": {
    "scrolled": true
   },
   "outputs": [
    {
     "data": {
      "text/plain": [
       "0.25     8.94\n",
       "0.50    11.83\n",
       "0.75    14.42\n",
       "Name: int_rate, dtype: float64"
      ]
     },
     "execution_count": 1060,
     "metadata": {},
     "output_type": "execute_result"
    }
   ],
   "source": [
    "loan_data[\"int_rate\"].quantile([.25, .5, .75])"
   ]
  },
  {
   "cell_type": "code",
   "execution_count": 1061,
   "id": "b9c8e050",
   "metadata": {},
   "outputs": [
    {
     "data": {
      "text/plain": [
       "0.25    2.0\n",
       "0.50    4.0\n",
       "0.75    9.0\n",
       "Name: emp_length, dtype: float64"
      ]
     },
     "execution_count": 1061,
     "metadata": {},
     "output_type": "execute_result"
    }
   ],
   "source": [
    "loan_data[\"emp_length\"].quantile([.25, .5, .75])"
   ]
  },
  {
   "cell_type": "code",
   "execution_count": 1062,
   "id": "a64635d6",
   "metadata": {},
   "outputs": [
    {
     "data": {
      "text/plain": [
       "0.25    41000.0\n",
       "0.50    60000.0\n",
       "0.75    83000.0\n",
       "Name: annual_inc, dtype: float64"
      ]
     },
     "execution_count": 1062,
     "metadata": {},
     "output_type": "execute_result"
    }
   ],
   "source": [
    "loan_data[\"annual_inc\"].quantile([.25, .5, .75])"
   ]
  },
  {
   "cell_type": "code",
   "execution_count": 1063,
   "id": "3f6644f3",
   "metadata": {},
   "outputs": [
    {
     "data": {
      "text/plain": [
       "0.25     8.16\n",
       "0.50    13.38\n",
       "0.75    18.55\n",
       "Name: dti, dtype: float64"
      ]
     },
     "execution_count": 1063,
     "metadata": {},
     "output_type": "execute_result"
    }
   ],
   "source": [
    "loan_data[\"dti\"].quantile([.25, .5, .75])"
   ]
  },
  {
   "cell_type": "code",
   "execution_count": 1064,
   "id": "4adba292",
   "metadata": {},
   "outputs": [
    {
     "data": {
      "text/plain": [
       "0.25     5500.0\n",
       "0.50    10000.0\n",
       "0.75    15000.0\n",
       "Name: loan_amnt, dtype: float64"
      ]
     },
     "execution_count": 1064,
     "metadata": {},
     "output_type": "execute_result"
    }
   ],
   "source": [
    "loan_data[\"loan_amnt\"].quantile([.25, .5, .75])"
   ]
  },
  {
   "cell_type": "markdown",
   "id": "cea67ecc",
   "metadata": {},
   "source": [
    "## Univariate Analysis"
   ]
  },
  {
   "cell_type": "code",
   "execution_count": 1065,
   "id": "8a0869c2",
   "metadata": {},
   "outputs": [
    {
     "data": {
      "image/png": "[encoded data removed]",
      "text/plain": [
       "<Figure size 432x288 with 1 Axes>"
      ]
     },
     "metadata": {
      "needs_background": "light"
     },
     "output_type": "display_data"
    }
   ],
   "source": [
    "sns.countplot(data=loan_data, x=\"loan_status\")\n",
    "plt.title(\"Loan Status\")\n",
    "plt.show()"
   ]
  },
  {
   "cell_type": "code",
   "execution_count": 1066,
   "id": "95ad8277",
   "metadata": {},
   "outputs": [
    {
     "data": {
      "image/png": "[encoded data removed]",
      "text/plain": [
       "<Figure size 432x288 with 1 Axes>"
      ]
     },
     "metadata": {
      "needs_background": "light"
     },
     "output_type": "display_data"
    }
   ],
   "source": [
    "# Comparing default rates across grade of loan\n",
    "sns.countplot(data=loan_data, x=\"grade\")\n",
    "plt.title(\"Grade\")\n",
    "plt.show()"
   ]
  },
  {
   "cell_type": "code",
   "execution_count": 1067,
   "id": "d68449bb",
   "metadata": {},
   "outputs": [
    {
     "data": {
      "image/png": "[encoded data removed]",
      "text/plain": [
       "<Figure size 432x288 with 1 Axes>"
      ]
     },
     "metadata": {
      "needs_background": "light"
     },
     "output_type": "display_data"
    }
   ],
   "source": [
    "# Plot default rate across term\n",
    "sns.countplot(data=loan_data, x=\"term\")\n",
    "plt.title(\"Loan Duration\")\n",
    "plt.show()"
   ]
  },
  {
   "cell_type": "code",
   "execution_count": 1068,
   "id": "744284e3",
   "metadata": {},
   "outputs": [
    {
     "data": {
      "image/png": "[encoded data removed]",
      "text/plain": [
       "<Figure size 1152x432 with 1 Axes>"
      ]
     },
     "metadata": {
      "needs_background": "light"
     },
     "output_type": "display_data"
    }
   ],
   "source": [
    "# plot the subgrades\n",
    "plt.figure(figsize=(16,6))\n",
    "sns.countplot(data=loan_data, x=\"sub_grade\")\n",
    "plt.title(\"Sub Grade\")\n",
    "plt.show()"
   ]
  },
  {
   "cell_type": "code",
   "execution_count": 1069,
   "id": "5e60618b",
   "metadata": {
    "scrolled": true
   },
   "outputs": [
    {
     "data": {
      "image/png": "[encoded data removed]",
      "text/plain": [
       "<Figure size 432x288 with 1 Axes>"
      ]
     },
     "metadata": {
      "needs_background": "light"
     },
     "output_type": "display_data"
    }
   ],
   "source": [
    "sns.distplot(loan_data[\"loan_amnt\"], bins=10, kde=True)\n",
    "plt.title(\"Loan Amount\")\n",
    "plt.show()"
   ]
  },
  {
   "cell_type": "code",
   "execution_count": 1070,
   "id": "3b8d4fea",
   "metadata": {
    "scrolled": false
   },
   "outputs": [
    {
     "data": {
      "image/png": "[encoded data removed]",
      "text/plain": [
       "<Figure size 360x360 with 1 Axes>"
      ]
     },
     "metadata": {
      "needs_background": "light"
     },
     "output_type": "display_data"
    }
   ],
   "source": [
    "sns.catplot(data=loan_data, x=\"int_rate\", kind=\"violin\")\n",
    "plt.title(\"Int Rate\")\n",
    "plt.show()"
   ]
  },
  {
   "cell_type": "markdown",
   "id": "5ca1e148",
   "metadata": {},
   "source": [
    "sns.histplot(loan_data[\"annual_inc\"], binwidth=3)\n",
    "plt.title(\"Annual Income\")\n",
    "plt.show()"
   ]
  },
  {
   "cell_type": "markdown",
   "id": "820b41a2",
   "metadata": {},
   "source": [
    "## Segmented Univariate Analysis"
   ]
  },
  {
   "cell_type": "code",
   "execution_count": 1071,
   "id": "77813675",
   "metadata": {},
   "outputs": [
    {
     "data": {
      "image/png": "[encoded data removed]",
      "text/plain": [
       "<Figure size 1152x432 with 1 Axes>"
      ]
     },
     "metadata": {
      "needs_background": "light"
     },
     "output_type": "display_data"
    }
   ],
   "source": [
    "# Ploting purpose of loans\n",
    "plt.figure(figsize=(16, 6))\n",
    "plt.xticks(rotation=90)\n",
    "sns.countplot(data=loan_data, x='purpose')\n",
    "plt.title(\"Purpose\")\n",
    "plt.show()"
   ]
  },
  {
   "cell_type": "markdown",
   "id": "27053095",
   "metadata": {},
   "source": [
    "Let's analyse the top 4 types of loans based on purpose: debt_consolidation, credit card, home improvement and major purchase."
   ]
  },
  {
   "cell_type": "code",
   "execution_count": 1072,
   "id": "c2405eec",
   "metadata": {},
   "outputs": [
    {
     "data": {
      "text/plain": [
       "debt_consolidation    17675\n",
       "credit_card            4899\n",
       "home_improvement       2785\n",
       "major_purchase         2080\n",
       "Name: purpose, dtype: int64"
      ]
     },
     "execution_count": 1072,
     "metadata": {},
     "output_type": "execute_result"
    }
   ],
   "source": [
    "# filtering the data for the 4 types of loans mentioned above\n",
    "main_purposes = [\"credit_card\",\"debt_consolidation\",\"home_improvement\",\"major_purchase\"]\n",
    "loan_data = loan_data[loan_data['purpose'].isin(main_purposes)]\n",
    "loan_data['purpose'].value_counts()"
   ]
  },
  {
   "cell_type": "code",
   "execution_count": 1073,
   "id": "56f13ff1",
   "metadata": {},
   "outputs": [
    {
     "data": {
      "image/png": "[encoded data removed]",
      "text/plain": [
       "<Figure size 432x288 with 1 Axes>"
      ]
     },
     "metadata": {
      "needs_background": "light"
     },
     "output_type": "display_data"
    }
   ],
   "source": [
    "# Plot number of loans by purpose\n",
    "sns.countplot(data=loan_data, x=\"purpose\")\n",
    "plt.title(\"Purpose\")\n",
    "plt.xticks(rotation=90)\n",
    "plt.show()"
   ]
  },
  {
   "cell_type": "markdown",
   "id": "89d3e8b9",
   "metadata": {},
   "source": [
    "## Bivariate Analysis"
   ]
  },
  {
   "cell_type": "code",
   "execution_count": 1074,
   "id": "abbe1212",
   "metadata": {},
   "outputs": [],
   "source": [
    "# Defining a function to plot default rate across categorical variables for futher use.\n",
    "def plot_category(var):\n",
    "    sns.barplot(data=loan_data, x=var, y='loan_status')\n",
    "    plt.title(\"Default Rates Across \" + var.title())\n",
    "    plt.show()"
   ]
  },
  {
   "cell_type": "code",
   "execution_count": 1075,
   "id": "db6fb182",
   "metadata": {
    "scrolled": false
   },
   "outputs": [
    {
     "data": {
      "image/png": "[encoded data removed]",
      "text/plain": [
       "<Figure size 432x288 with 1 Axes>"
      ]
     },
     "metadata": {
      "needs_background": "light"
     },
     "output_type": "display_data"
    }
   ],
   "source": [
    "# Comparing default rates across grade of loan\n",
    "plot_category('grade')"
   ]
  },
  {
   "cell_type": "markdown",
   "id": "8f1d5813",
   "metadata": {},
   "source": [
    "Here 0 denotes 'Fully Paid' and 1 denotes 'Charged Off' \n",
    "\n",
    "Clearly, see that the grade of fully paid loan is higher than charged off and also from A to G, the default rate increases"
   ]
  },
  {
   "cell_type": "code",
   "execution_count": 1076,
   "id": "b26d4bba",
   "metadata": {
    "scrolled": true
   },
   "outputs": [
    {
     "data": {
      "image/png": "[encoded data removed]",
      "text/plain": [
       "<Figure size 432x288 with 1 Axes>"
      ]
     },
     "metadata": {
      "needs_background": "light"
     },
     "output_type": "display_data"
    }
   ],
   "source": [
    "# Ploting default rates across term \n",
    "plot_category('term')"
   ]
  },
  {
   "cell_type": "code",
   "execution_count": 1077,
   "id": "1e8e598e",
   "metadata": {},
   "outputs": [
    {
     "data": {
      "image/png": "[encoded data removed]",
      "text/plain": [
       "<Figure size 1152x432 with 1 Axes>"
      ]
     },
     "metadata": {
      "needs_background": "light"
     },
     "output_type": "display_data"
    }
   ],
   "source": [
    "# subgrades across default rate\n",
    "plt.figure(figsize=(16, 6))\n",
    "plot_category('sub_grade')"
   ]
  },
  {
   "cell_type": "code",
   "execution_count": 1078,
   "id": "3e8865f2",
   "metadata": {},
   "outputs": [
    {
     "data": {
      "image/png": "[encoded data removed]",
      "text/plain": [
       "<Figure size 432x288 with 1 Axes>"
      ]
     },
     "metadata": {
      "needs_background": "light"
     },
     "output_type": "display_data"
    }
   ],
   "source": [
    "# Ploting default rates across home ownership \n",
    "plot_category('home_ownership')"
   ]
  },
  {
   "cell_type": "code",
   "execution_count": 1079,
   "id": "6a0f7811",
   "metadata": {},
   "outputs": [
    {
     "data": {
      "image/png": "[encoded data removed]",
      "text/plain": [
       "<Figure size 432x288 with 1 Axes>"
      ]
     },
     "metadata": {
      "needs_background": "light"
     },
     "output_type": "display_data"
    }
   ],
   "source": [
    "# Ploting default rates across verification status\n",
    "plot_category('verification_status')"
   ]
  },
  {
   "cell_type": "markdown",
   "id": "1b28aaf6",
   "metadata": {},
   "source": [
    "We can see that verified loans have more default rate as compared to other"
   ]
  },
  {
   "cell_type": "code",
   "execution_count": 1080,
   "id": "e2f56d58",
   "metadata": {},
   "outputs": [
    {
     "data": {
      "image/png": "[encoded data removed]",
      "text/plain": [
       "<Figure size 432x288 with 1 Axes>"
      ]
     },
     "metadata": {
      "needs_background": "light"
     },
     "output_type": "display_data"
    }
   ],
   "source": [
    "# ploting purpose of loans across default rate.\n",
    "plt.xticks(rotation=90)\n",
    "plot_category('purpose')"
   ]
  },
  {
   "cell_type": "code",
   "execution_count": 1081,
   "id": "619e8eed",
   "metadata": {},
   "outputs": [
    {
     "data": {
      "text/plain": [
       "0     Dec-11\n",
       "6     Dec-11\n",
       "10    Dec-11\n",
       "11    Dec-11\n",
       "12    Dec-11\n",
       "Name: issue_d, dtype: object"
      ]
     },
     "execution_count": 1081,
     "metadata": {},
     "output_type": "execute_result"
    }
   ],
   "source": [
    "# let's also observe the distribution of loans across years\n",
    "# first lets convert the year column into datetime and then extract year and month from it\n",
    "loan_data['issue_d'].head()"
   ]
  },
  {
   "cell_type": "code",
   "execution_count": 1082,
   "id": "593ce1b7",
   "metadata": {},
   "outputs": [
    {
     "data": {
      "text/plain": [
       "0       2011-12-01\n",
       "6       2011-12-01\n",
       "10      2011-12-01\n",
       "11      2011-12-01\n",
       "12      2011-12-01\n",
       "           ...    \n",
       "39711   2007-07-01\n",
       "39712   2007-07-01\n",
       "39713   2007-07-01\n",
       "39714   2007-07-01\n",
       "39716   2007-06-01\n",
       "Name: issue_d, Length: 27439, dtype: datetime64[ns]"
      ]
     },
     "execution_count": 1082,
     "metadata": {},
     "output_type": "execute_result"
    }
   ],
   "source": [
    "# Convert the issue date to datetime format  \n",
    "from datetime import datetime\n",
    "loan_data[\"issue_d\"] = loan_data[\"issue_d\"].apply(lambda x: datetime.strptime(x, '%b-%y'))\n",
    "loan_data[\"issue_d\"]"
   ]
  },
  {
   "cell_type": "code",
   "execution_count": 1083,
   "id": "6c4154ab",
   "metadata": {},
   "outputs": [],
   "source": [
    "# Extract month and year from issue date\n",
    "loan_data[\"month\"] = loan_data[\"issue_d\"].apply(lambda x: x.month)\n",
    "loan_data[\"year\"] = loan_data[\"issue_d\"].apply(lambda x: x.year)"
   ]
  },
  {
   "cell_type": "code",
   "execution_count": 1084,
   "id": "f9119ecc",
   "metadata": {},
   "outputs": [
    {
     "data": {
      "text/plain": [
       "year\n",
       "2007      148\n",
       "2008     1053\n",
       "2009     3121\n",
       "2010     8210\n",
       "2011    14907\n",
       "Name: year, dtype: int64"
      ]
     },
     "execution_count": 1084,
     "metadata": {},
     "output_type": "execute_result"
    }
   ],
   "source": [
    "# let's first observe the number of loans granted across years\n",
    "loan_data.groupby('year').year.count()"
   ]
  },
  {
   "cell_type": "markdown",
   "id": "b5ac3d45",
   "metadata": {},
   "source": [
    "As expected see that as year increase no of loans increased"
   ]
  },
  {
   "cell_type": "code",
   "execution_count": 1085,
   "id": "c1d94591",
   "metadata": {},
   "outputs": [
    {
     "data": {
      "text/plain": [
       "month\n",
       "1     1712\n",
       "2     1662\n",
       "3     1874\n",
       "4     1940\n",
       "5     2062\n",
       "6     2201\n",
       "7     2340\n",
       "8     2410\n",
       "9     2483\n",
       "10    2666\n",
       "11    2919\n",
       "12    3170\n",
       "Name: month, dtype: int64"
      ]
     },
     "execution_count": 1085,
     "metadata": {},
     "output_type": "execute_result"
    }
   ],
   "source": [
    "loan_data.groupby('month').month.count()"
   ]
  },
  {
   "cell_type": "markdown",
   "id": "9ea713b3",
   "metadata": {},
   "source": [
    "Most loans are granted in December"
   ]
  },
  {
   "cell_type": "code",
   "execution_count": 1086,
   "id": "860d0146",
   "metadata": {},
   "outputs": [
    {
     "data": {
      "image/png": "[encoded data removed]",
      "text/plain": [
       "<Figure size 432x288 with 1 Axes>"
      ]
     },
     "metadata": {
      "needs_background": "light"
     },
     "output_type": "display_data"
    }
   ],
   "source": [
    "# lets compare the default rates across years\n",
    "plot_category('year')"
   ]
  },
  {
   "cell_type": "code",
   "execution_count": 1087,
   "id": "ca4431f5",
   "metadata": {},
   "outputs": [
    {
     "data": {
      "image/png": "[encoded data removed]",
      "text/plain": [
       "<Figure size 1152x432 with 1 Axes>"
      ]
     },
     "metadata": {
      "needs_background": "light"
     },
     "output_type": "display_data"
    }
   ],
   "source": [
    "# comparing default rates across months too \n",
    "plt.figure(figsize=(16, 6))\n",
    "plot_category('month')"
   ]
  },
  {
   "cell_type": "code",
   "execution_count": 1088,
   "id": "cda8e57f",
   "metadata": {},
   "outputs": [
    {
     "data": {
      "image/png": "[encoded data removed]",
      "text/plain": [
       "<Figure size 432x288 with 1 Axes>"
      ]
     },
     "metadata": {
      "needs_background": "light"
     },
     "output_type": "display_data"
    }
   ],
   "source": [
    "# let us see loan distribution amount\n",
    "sns.distplot(loan_data[\"loan_amnt\"])\n",
    "plt.show()"
   ]
  },
  {
   "cell_type": "code",
   "execution_count": 1089,
   "id": "6f43b90f",
   "metadata": {},
   "outputs": [],
   "source": [
    "# let make a category to better understand\n",
    "loan_data['loan_amnt'] = pd.cut(loan_data['loan_amnt'], bins=[1, 5000, 15000, 25000, 100000000], labels=['Low', 'Medium', 'High', 'Very High'])"
   ]
  },
  {
   "cell_type": "code",
   "execution_count": 1090,
   "id": "1fbbaede",
   "metadata": {},
   "outputs": [
    {
     "data": {
      "text/plain": [
       "Medium       15239\n",
       "High          5886\n",
       "Low           5150\n",
       "Very High     1164\n",
       "Name: loan_amnt, dtype: int64"
      ]
     },
     "execution_count": 1090,
     "metadata": {},
     "output_type": "execute_result"
    }
   ],
   "source": [
    "loan_data[\"loan_amnt\"].value_counts()"
   ]
  },
  {
   "cell_type": "code",
   "execution_count": 1091,
   "id": "6915bf42",
   "metadata": {},
   "outputs": [
    {
     "data": {
      "image/png": "[encoded data removed]",
      "text/plain": [
       "<Figure size 432x288 with 1 Axes>"
      ]
     },
     "metadata": {
      "needs_background": "light"
     },
     "output_type": "display_data"
    }
   ],
   "source": [
    "plot_category('loan_amnt')"
   ]
  },
  {
   "cell_type": "code",
   "execution_count": 1092,
   "id": "f0403f97",
   "metadata": {},
   "outputs": [],
   "source": [
    "# let's also convert funded amount into category wise\n",
    "loan_data['funded_amnt_inv'] = pd.cut(loan_data['funded_amnt_inv'], bins=[1, 5000, 15000, 25000, 100000000], labels=['Low', 'Medium', 'High', 'Very High'])"
   ]
  },
  {
   "cell_type": "code",
   "execution_count": 1093,
   "id": "7c8ae473",
   "metadata": {},
   "outputs": [
    {
     "data": {
      "image/png": "[encoded data removed]",
      "text/plain": [
       "<Figure size 432x288 with 1 Axes>"
      ]
     },
     "metadata": {
      "needs_background": "light"
     },
     "output_type": "display_data"
    }
   ],
   "source": [
    "# ploting funded amount into category wise\n",
    "plot_category('funded_amnt_inv')"
   ]
  },
  {
   "cell_type": "markdown",
   "id": "04185165",
   "metadata": {},
   "source": [
    " We can see that the as default rate increase the amount and funded amount increases."
   ]
  },
  {
   "cell_type": "code",
   "execution_count": 1094,
   "id": "90d2aa63",
   "metadata": {},
   "outputs": [],
   "source": [
    "# lets also categories interest rate \n",
    "loan_data['int_rate'] = pd.cut(loan_data['int_rate'], bins=[0.1, 10, 15, 200], labels=['Low', 'Medium', 'High'])"
   ]
  },
  {
   "cell_type": "code",
   "execution_count": 1095,
   "id": "c8e384d2",
   "metadata": {},
   "outputs": [
    {
     "data": {
      "image/png": "[encoded data removed]",
      "text/plain": [
       "<Figure size 432x288 with 1 Axes>"
      ]
     },
     "metadata": {
      "needs_background": "light"
     },
     "output_type": "display_data"
    }
   ],
   "source": [
    "# ploting default rates across rates of interest\n",
    "plot_category('int_rate')"
   ]
  },
  {
   "cell_type": "markdown",
   "id": "af077796",
   "metadata": {},
   "source": [
    "As expected the higher default rate has higher interst on it."
   ]
  },
  {
   "cell_type": "code",
   "execution_count": 1096,
   "id": "3b096a7c",
   "metadata": {},
   "outputs": [],
   "source": [
    "# debt to income ratio\n",
    "loan_data['dti'] = pd.cut(loan_data['dti'], bins=[0.1, 10, 20, 200], labels=['Low', 'Medium', 'High'])"
   ]
  },
  {
   "cell_type": "code",
   "execution_count": 1097,
   "id": "218dceff",
   "metadata": {},
   "outputs": [
    {
     "data": {
      "image/png": "[encoded data removed]",
      "text/plain": [
       "<Figure size 432x288 with 1 Axes>"
      ]
     },
     "metadata": {
      "needs_background": "light"
     },
     "output_type": "display_data"
    }
   ],
   "source": [
    "# ploting default rates across debt to income ratio\n",
    "plot_category('dti')"
   ]
  },
  {
   "cell_type": "code",
   "execution_count": 1098,
   "id": "f1730ff9",
   "metadata": {},
   "outputs": [],
   "source": [
    "# categorizing funded amount\n",
    "loan_data['funded_amnt'] = pd.cut(loan_data['funded_amnt'], bins=[0, 5000, 15000, 100000], labels=['Low', 'Medium', 'High'])"
   ]
  },
  {
   "cell_type": "code",
   "execution_count": 1099,
   "id": "df72d0d5",
   "metadata": {},
   "outputs": [
    {
     "data": {
      "image/png": "[encoded data removed]",
      "text/plain": [
       "<Figure size 432x288 with 1 Axes>"
      ]
     },
     "metadata": {
      "needs_background": "light"
     },
     "output_type": "display_data"
    }
   ],
   "source": [
    "plot_category('funded_amnt')"
   ]
  },
  {
   "cell_type": "code",
   "execution_count": 1100,
   "id": "ae4bce56",
   "metadata": {},
   "outputs": [],
   "source": [
    "# Categorizing installment\n",
    "loan_data['installment'] = pd.cut(loan_data['installment'], bins=[0, 200, 400, 600, 5000], labels=['Low', 'Medium', 'High', 'Very High'])"
   ]
  },
  {
   "cell_type": "code",
   "execution_count": 1101,
   "id": "9168deca",
   "metadata": {},
   "outputs": [
    {
     "data": {
      "image/png": "[encoded data removed]",
      "text/plain": [
       "<Figure size 432x288 with 1 Axes>"
      ]
     },
     "metadata": {
      "needs_background": "light"
     },
     "output_type": "display_data"
    }
   ],
   "source": [
    "plot_category('installment')"
   ]
  },
  {
   "cell_type": "code",
   "execution_count": 1102,
   "id": "a087fbbb",
   "metadata": {},
   "outputs": [],
   "source": [
    "# cateorizing annual income\n",
    "loan_data['annual_inc'] = pd.cut(loan_data['annual_inc'], bins=[0, 50000, 100000, 150000, 20000000], labels=['Low', 'Medium', 'High', 'Very High'])"
   ]
  },
  {
   "cell_type": "code",
   "execution_count": 1103,
   "id": "864725bc",
   "metadata": {},
   "outputs": [
    {
     "data": {
      "image/png": "[encoded data removed]",
      "text/plain": [
       "<Figure size 432x288 with 1 Axes>"
      ]
     },
     "metadata": {
      "needs_background": "light"
     },
     "output_type": "display_data"
    }
   ],
   "source": [
    "# Plot annual income across default rate\n",
    "plot_category('annual_inc')"
   ]
  },
  {
   "cell_type": "code",
   "execution_count": 1104,
   "id": "a35fe0a2",
   "metadata": {},
   "outputs": [],
   "source": [
    "# categorizing employment length to fresher, junior, senior, expert\n",
    "\n",
    "loan_data = loan_data[~loan_data['emp_length'].isnull()]\n",
    "\n",
    "# binning the variable\n",
    "loan_data['emp_length'] = pd.cut(loan_data['emp_length'], bins=[0, 1, 3, 7, 100], labels=['Fresher', 'Junior', 'Senior', 'Expert'])"
   ]
  },
  {
   "cell_type": "code",
   "execution_count": 1105,
   "id": "9b5ac62f",
   "metadata": {},
   "outputs": [
    {
     "data": {
      "image/png": "[encoded data removed]",
      "text/plain": [
       "<Figure size 432x288 with 1 Axes>"
      ]
     },
     "metadata": {
      "needs_background": "light"
     },
     "output_type": "display_data"
    }
   ],
   "source": [
    "# Plotting emp lenth and default rate\n",
    "plot_category('emp_length')"
   ]
  },
  {
   "cell_type": "markdown",
   "id": "7c71783b",
   "metadata": {},
   "source": [
    "We can see that expert have higher rate and fresher and senior have the same rate"
   ]
  },
  {
   "cell_type": "code",
   "execution_count": 1106,
   "id": "5f5bf4a0",
   "metadata": {},
   "outputs": [],
   "source": [
    "# loan to income ratio\n",
    "loan_data['loan_inc_ratio'] = pd.cut(loan_data['loan_inc_ratio'], bins=[0.1, 10, 20, 200], labels=['Low', 'Medium', 'High'])"
   ]
  },
  {
   "cell_type": "code",
   "execution_count": 1107,
   "id": "4c75b3e1",
   "metadata": {},
   "outputs": [
    {
     "data": {
      "image/png": "[encoded data removed]",
      "text/plain": [
       "<Figure size 432x288 with 1 Axes>"
      ]
     },
     "metadata": {
      "needs_background": "light"
     },
     "output_type": "display_data"
    }
   ],
   "source": [
    "plot_category('loan_inc_ratio')"
   ]
  },
  {
   "cell_type": "markdown",
   "id": "379d5c46",
   "metadata": {},
   "source": [
    "## Multivariate Analysis"
   ]
  },
  {
   "cell_type": "code",
   "execution_count": 1108,
   "id": "ad71cbb2",
   "metadata": {},
   "outputs": [
    {
     "data": {
      "image/png": "[encoded data removed]",
      "text/plain": [
       "<Figure size 864x576 with 1 Axes>"
      ]
     },
     "metadata": {
      "needs_background": "light"
     },
     "output_type": "display_data"
    }
   ],
   "source": [
    "# comparing the default rates across two types of categorical variables\n",
    "# purpose of loan (constant) and another categorical variable (which changes)\n",
    "\n",
    "plt.figure(figsize=(12, 8))\n",
    "plt.title(\"Default Rates Across Term Segmented By Purpose\")\n",
    "sns.barplot(data=loan_data, x='term', y='loan_status', hue=\"purpose\")\n",
    "plt.show()"
   ]
  },
  {
   "cell_type": "code",
   "execution_count": 1109,
   "id": "a5f3f766",
   "metadata": {},
   "outputs": [
    {
     "data": {
      "image/png": "[encoded data removed]",
      "text/plain": [
       "<Figure size 1152x576 with 1 Axes>"
      ]
     },
     "metadata": {
      "needs_background": "light"
     },
     "output_type": "display_data"
    }
   ],
   "source": [
    "# Plotting grade of loan vs loan status vs purpose\n",
    "plt.figure(figsize=(16,8))\n",
    "plt.title(\"Default Rates Across Grade Segmented By Purpose\")\n",
    "sns.barplot(data=loan_data, x='grade', y='loan_status', hue=\"purpose\")\n",
    "plt.show()\n"
   ]
  },
  {
   "cell_type": "code",
   "execution_count": 1110,
   "id": "bacfff85",
   "metadata": {},
   "outputs": [
    {
     "data": {
      "image/png": "[encoded data removed]",
      "text/plain": [
       "<Figure size 864x576 with 1 Axes>"
      ]
     },
     "metadata": {
      "needs_background": "light"
     },
     "output_type": "display_data"
    }
   ],
   "source": [
    "# Plotting home ownership\n",
    "plt.figure(figsize=(12,8))\n",
    "plt.title(\"Default Rates Across Home Ownership Segmented By Purpose\")\n",
    "sns.barplot(data=loan_data, x='home_ownership', y='loan_status', hue=\"purpose\")\n",
    "plt.show()"
   ]
  },
  {
   "cell_type": "markdown",
   "id": "3b93798d",
   "metadata": {},
   "source": [
    "dept_consolidation have high amoung 3 catagory, except others"
   ]
  },
  {
   "cell_type": "code",
   "execution_count": 1111,
   "id": "05523986",
   "metadata": {},
   "outputs": [
    {
     "data": {
      "image/png": "[encoded data removed]",
      "text/plain": [
       "<Figure size 864x576 with 1 Axes>"
      ]
     },
     "metadata": {
      "needs_background": "light"
     },
     "output_type": "display_data"
    }
   ],
   "source": [
    "# ploting default rates across year segmented by purpose.\n",
    "plt.figure(figsize=(12,8))\n",
    "plt.title(\"Default Rates Across Year Segmented By Purpose\")\n",
    "sns.barplot(data=loan_data, x='year', y='loan_status', hue=\"purpose\")\n",
    "plt.show()"
   ]
  },
  {
   "cell_type": "code",
   "execution_count": 1112,
   "id": "35e49fb8",
   "metadata": {},
   "outputs": [
    {
     "data": {
      "image/png": "[encoded data removed]",
      "text/plain": [
       "<Figure size 864x576 with 1 Axes>"
      ]
     },
     "metadata": {
      "needs_background": "light"
     },
     "output_type": "display_data"
    }
   ],
   "source": [
    "# ploting default rates across employee length segmented by purpose.\n",
    "plt.figure(figsize=(12,8))\n",
    "plt.title(\"Default Rates Across Emp Length Segmented By Purpose\")\n",
    "sns.barplot(data=loan_data, x='emp_length', y='loan_status', hue=\"purpose\")\n",
    "plt.show()"
   ]
  },
  {
   "cell_type": "code",
   "execution_count": 1113,
   "id": "2c1632a2",
   "metadata": {},
   "outputs": [
    {
     "data": {
      "image/png": "[encoded data removed]",
      "text/plain": [
       "<Figure size 864x576 with 1 Axes>"
      ]
     },
     "metadata": {
      "needs_background": "light"
     },
     "output_type": "display_data"
    }
   ],
   "source": [
    "# ploting default rates across loan amount segmented by purpose.\n",
    "plt.figure(figsize=(12,8))\n",
    "plt.title(\"Default Rates Across Loan Amount Segmented By Purpose\")\n",
    "sns.barplot(data=loan_data, x='loan_amnt', y='loan_status', hue=\"purpose\")\n",
    "plt.show()"
   ]
  },
  {
   "cell_type": "code",
   "execution_count": 1114,
   "id": "ef15e5b6",
   "metadata": {},
   "outputs": [
    {
     "data": {
      "image/png": "[encoded data removed]",
      "text/plain": [
       "<Figure size 864x576 with 1 Axes>"
      ]
     },
     "metadata": {
      "needs_background": "light"
     },
     "output_type": "display_data"
    }
   ],
   "source": [
    "# ploting default rates across loan amount segmented by purpose.\n",
    "plt.figure(figsize=(12,8))\n",
    "plt.title(\"Default Rates Across interest rate Segmented By Purpose\")\n",
    "sns.barplot(data=loan_data, x='int_rate', y='loan_status', hue=\"purpose\")\n",
    "plt.show()"
   ]
  },
  {
   "cell_type": "code",
   "execution_count": 1115,
   "id": "c6005e43",
   "metadata": {},
   "outputs": [
    {
     "data": {
      "image/png": "[encoded data removed]",
      "text/plain": [
       "<Figure size 864x576 with 1 Axes>"
      ]
     },
     "metadata": {
      "needs_background": "light"
     },
     "output_type": "display_data"
    }
   ],
   "source": [
    "# ploting default rates across loan amount segmented by purpose.\n",
    "plt.figure(figsize=(12,8))\n",
    "plt.title(\"Default Rates Across installment Segmented By Purpose\")\n",
    "sns.barplot(data=loan_data, x='installment', y='loan_status', hue=\"purpose\")\n",
    "plt.show()"
   ]
  },
  {
   "cell_type": "code",
   "execution_count": 1116,
   "id": "bb47ef85",
   "metadata": {},
   "outputs": [
    {
     "data": {
      "image/png": "[encoded data removed]",
      "text/plain": [
       "<Figure size 864x576 with 1 Axes>"
      ]
     },
     "metadata": {
      "needs_background": "light"
     },
     "output_type": "display_data"
    }
   ],
   "source": [
    "# ploting default rates across debt to income ratio segmented by purpose.\n",
    "plt.figure(figsize=(12,8))\n",
    "plt.title(\"Default Rates Across debt to income ratio Segmented By Purpose\")\n",
    "sns.barplot(data=loan_data, x='dti', y='loan_status', hue=\"purpose\")\n",
    "plt.show()"
   ]
  },
  {
   "cell_type": "code",
   "execution_count": 1117,
   "id": "44456d76",
   "metadata": {},
   "outputs": [
    {
     "data": {
      "image/png": "[encoded data removed]",
      "text/plain": [
       "<Figure size 864x576 with 1 Axes>"
      ]
     },
     "metadata": {
      "needs_background": "light"
     },
     "output_type": "display_data"
    }
   ],
   "source": [
    "# ploting default rates across debt to annual income segmented by purpose.\n",
    "plt.figure(figsize=(12,8))\n",
    "plt.title(\"Default Rates Across annual income Segmented By Purpose\")\n",
    "sns.barplot(data=loan_data, x='annual_inc', y='loan_status', hue=\"purpose\")\n",
    "plt.show()"
   ]
  },
  {
   "cell_type": "code",
   "execution_count": null,
   "id": "d71b51f8",
   "metadata": {},
   "outputs": [],
   "source": []
  }
 ],
 "metadata": {
  "kernelspec": {
   "display_name": "Python 3 (ipykernel)",
   "language": "python",
   "name": "python3"
  },
  "language_info": {
   "codemirror_mode": {
    "name": "ipython",
    "version": 3
   },
   "file_extension": ".py",
   "mimetype": "text/x-python",
   "name": "python",
   "nbconvert_exporter": "python",
   "pygments_lexer": "ipython3",
   "version": "3.9.7"
  }
 },
 "nbformat": 4,
 "nbformat_minor": 5
}
